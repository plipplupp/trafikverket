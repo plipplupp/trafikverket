{
 "cells": [
  {
   "cell_type": "code",
   "execution_count": null,
   "id": "45d9adc2",
   "metadata": {},
   "outputs": [
    {
     "ename": "",
     "evalue": "",
     "output_type": "error",
     "traceback": [
      "\u001b[1;31mRunning cells with 'Python 3.11.9' requires the ipykernel package.\n",
      "\u001b[1;31m<a href='command:jupyter.createPythonEnvAndSelectController'>Create a Python Environment</a> with the required packages."
     ]
    }
   ],
   "source": [
    "import pyodbc\n",
    "\n",
    "try:\n",
    "    conn = pyodbc.connect(\n",
    "        'DRIVER={ODBC Driver 18 for SQL Server};'\n",
    "        'SERVER=ds-projekt.database.windows.net,1433;'\n",
    "        'DATABASE=db_projekt;'\n",
    "        'UID=ds_projekt_CGK;'\n",
    "        'PWD=7Df6M4Ym$H@F@5Hs'\n",
    "    )\n",
    "    print(\"✅ Anslutningen fungerar!\")\n",
    "except Exception as e:\n",
    "    print(\"❌ Fel vid anslutning:\", e)"
   ]
  }
 ],
 "metadata": {
  "kernelspec": {
   "display_name": "Python 3",
   "language": "python",
   "name": "python3"
  },
  "language_info": {
   "name": "python",
   "version": "3.11.9"
  }
 },
 "nbformat": 4,
 "nbformat_minor": 5
}
