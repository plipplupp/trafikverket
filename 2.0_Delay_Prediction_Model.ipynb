{
 "cells": [
  {
   "cell_type": "code",
   "execution_count": null,
   "id": "37ab9924",
   "metadata": {},
   "outputs": [],
   "source": [
    "import pandas as pd\n",
    "import numpy as np\n",
    "import matplotlib.pyplot as plt\n",
    "import seaborn as sns\n",
    "import os\n",
    "from sklearn.model_selection import train_test_split, cross_val_score, GridSearchCV\n",
    "from sklearn.preprocessing import StandardScaler, LabelEncoder\n",
    "from sklearn.ensemble import RandomForestRegressor, GradientBoostingRegressor\n",
    "from sklearn.linear_model import LinearRegression, Ridge, Lasso\n",
    "from sklearn.metrics import mean_absolute_error, mean_squared_error, r2_score\n",
    "\n",
    "from sklearn.linear_model import LogisticRegression\n",
    "from sklearn.ensemble import RandomForestClassifier, GradientBoostingClassifier\n",
    "from xgboost import XGBClassifier \n",
    "from sklearn.metrics import accuracy_score, precision_score, recall_score, f1_score, roc_auc_score, confusion_matrix\n",
    "from sklearn.metrics import roc_curve, auc\n",
    "\n",
    "from xgboost import XGBRegressor\n",
    "import warnings\n",
    "warnings.filterwarnings('ignore')\n",
    "\n",
    "# Sätt stil för plots\n",
    "sns.set_style('whitegrid')\n",
    "plt.rcParams['figure.figsize'] = (12, 6)"
   ]
  },
  {
   "cell_type": "markdown",
   "id": "566ff725",
   "metadata": {},
   "source": [
    "### Ladda data"
   ]
  },
  {
   "cell_type": "code",
   "execution_count": null,
   "id": "a676f775",
   "metadata": {},
   "outputs": [],
   "source": [
    "file_path = os.path.join('data', 'df_trips_combined.parquet')\n",
    "df_processed = pd.read_parquet(file_path)\n"
   ]
  },
  {
   "cell_type": "markdown",
   "id": "f0427eed",
   "metadata": {},
   "source": [
    "### Första inspektion"
   ]
  },
  {
   "cell_type": "code",
   "execution_count": null,
   "id": "8ae86214",
   "metadata": {},
   "outputs": [
    {
     "name": "stdout",
     "output_type": "stream",
     "text": [
      "Dataset shape: (26402, 25)\n",
      "\n",
      "First rows:\n"
     ]
    },
    {
     "data": {
      "application/vnd.microsoft.datawrangler.viewer.v0+json": {
       "columns": [
        {
         "name": "index",
         "rawType": "int64",
         "type": "integer"
        },
        {
         "name": "AdvertisedTrainIdent",
         "rawType": "object",
         "type": "string"
        },
        {
         "name": "TripDate",
         "rawType": "object",
         "type": "unknown"
        },
        {
         "name": "start_planned",
         "rawType": "datetime64[ns]",
         "type": "datetime"
        },
        {
         "name": "start_actual",
         "rawType": "datetime64[ns]",
         "type": "datetime"
        },
        {
         "name": "start_station",
         "rawType": "object",
         "type": "string"
        },
        {
         "name": "start_owner",
         "rawType": "object",
         "type": "string"
        },
        {
         "name": "start_operator",
         "rawType": "object",
         "type": "string"
        },
        {
         "name": "start_canceled",
         "rawType": "boolean",
         "type": "boolean"
        },
        {
         "name": "start_deviation",
         "rawType": "object",
         "type": "unknown"
        },
        {
         "name": "train_owner",
         "rawType": "object",
         "type": "string"
        },
        {
         "name": "start_typeoftraffic",
         "rawType": "object",
         "type": "unknown"
        },
        {
         "name": "end_planned",
         "rawType": "datetime64[ns]",
         "type": "datetime"
        },
        {
         "name": "end_actual",
         "rawType": "datetime64[ns]",
         "type": "datetime"
        },
        {
         "name": "end_station",
         "rawType": "object",
         "type": "string"
        },
        {
         "name": "end_canceled",
         "rawType": "boolean",
         "type": "boolean"
        },
        {
         "name": "end_deviation",
         "rawType": "object",
         "type": "unknown"
        },
        {
         "name": "trip_typeoftraffic",
         "rawType": "object",
         "type": "unknown"
        },
        {
         "name": "trip_canceled",
         "rawType": "boolean",
         "type": "boolean"
        },
        {
         "name": "duration_min",
         "rawType": "float64",
         "type": "float"
        },
        {
         "name": "delay_minutes",
         "rawType": "float64",
         "type": "float"
        },
        {
         "name": "distance_km",
         "rawType": "float64",
         "type": "float"
        },
        {
         "name": "start_hour",
         "rawType": "int32",
         "type": "integer"
        },
        {
         "name": "start_weekday",
         "rawType": "int32",
         "type": "integer"
        },
        {
         "name": "start_month",
         "rawType": "int32",
         "type": "integer"
        },
        {
         "name": "is_weekday",
         "rawType": "bool",
         "type": "boolean"
        }
       ],
       "ref": "9b08546d-9607-43ee-986e-dddb5e3db65a",
       "rows": [
        [
         "0",
         "1",
         "2025-10-06",
         "2025-10-06 00:06:00",
         "2025-10-06 00:25:18",
         "Ahm",
         "SJ",
         "SJ",
         "False",
         null,
         "SJ",
         null,
         "2025-10-06 23:27:00",
         "2025-10-06 23:48:15",
         "Pt",
         "False",
         null,
         null,
         "False",
         "1402.95",
         "21.25",
         "160.0",
         "0",
         "0",
         "10",
         "True"
        ],
        [
         "1",
         "1",
         "2025-10-07",
         "2025-10-07 00:06:00",
         "2025-10-07 00:30:58",
         "Ahm",
         "SJ",
         "SJ",
         "False",
         null,
         "SJ",
         null,
         "2025-10-07 04:59:00",
         "2025-10-07 05:15:31",
         "Pt",
         "False",
         null,
         null,
         "False",
         "284.55",
         "16.52",
         "160.0",
         "0",
         "1",
         "10",
         "True"
        ],
        [
         "2",
         "1",
         "2025-10-10",
         "2025-10-10 19:47:00",
         "2025-10-10 19:47:05",
         "Cst",
         "SJ",
         "SJ",
         "False",
         null,
         "SJ",
         null,
         "2025-10-10 23:07:00",
         "2025-10-10 23:04:26",
         "Nr",
         "False",
         null,
         null,
         "False",
         "197.35",
         "-2.57",
         "135.0",
         "19",
         "4",
         "10",
         "True"
        ],
        [
         "3",
         "1",
         "2025-10-11",
         "2025-10-11 00:02:00",
         "2025-10-11 00:02:43",
         "Ahm",
         "SJ",
         "SJ",
         "False",
         null,
         "SJ",
         null,
         "2025-10-11 03:27:00",
         "2025-10-11 03:31:22",
         "Mc",
         "False",
         null,
         null,
         "False",
         "208.65",
         "4.37",
         "224.0",
         "0",
         "5",
         "10",
         "False"
        ],
        [
         "4",
         "1",
         "2025-10-12",
         "2025-10-12 21:17:00",
         "2025-10-12 21:17:36",
         "Bx",
         "SJ",
         "SJ",
         "False",
         "Ingen",
         "SJ",
         "Tåg",
         "2025-10-12 23:27:00",
         "2025-10-12 23:29:32",
         "Nr",
         "False",
         null,
         null,
         "False",
         "131.93",
         "2.53",
         "80.0",
         "21",
         "6",
         "10",
         "False"
        ]
       ],
       "shape": {
        "columns": 25,
        "rows": 5
       }
      },
      "text/html": [
       "<div>\n",
       "<style scoped>\n",
       "    .dataframe tbody tr th:only-of-type {\n",
       "        vertical-align: middle;\n",
       "    }\n",
       "\n",
       "    .dataframe tbody tr th {\n",
       "        vertical-align: top;\n",
       "    }\n",
       "\n",
       "    .dataframe thead th {\n",
       "        text-align: right;\n",
       "    }\n",
       "</style>\n",
       "<table border=\"1\" class=\"dataframe\">\n",
       "  <thead>\n",
       "    <tr style=\"text-align: right;\">\n",
       "      <th></th>\n",
       "      <th>AdvertisedTrainIdent</th>\n",
       "      <th>TripDate</th>\n",
       "      <th>start_planned</th>\n",
       "      <th>start_actual</th>\n",
       "      <th>start_station</th>\n",
       "      <th>start_owner</th>\n",
       "      <th>start_operator</th>\n",
       "      <th>start_canceled</th>\n",
       "      <th>start_deviation</th>\n",
       "      <th>train_owner</th>\n",
       "      <th>...</th>\n",
       "      <th>end_deviation</th>\n",
       "      <th>trip_typeoftraffic</th>\n",
       "      <th>trip_canceled</th>\n",
       "      <th>duration_min</th>\n",
       "      <th>delay_minutes</th>\n",
       "      <th>distance_km</th>\n",
       "      <th>start_hour</th>\n",
       "      <th>start_weekday</th>\n",
       "      <th>start_month</th>\n",
       "      <th>is_weekday</th>\n",
       "    </tr>\n",
       "  </thead>\n",
       "  <tbody>\n",
       "    <tr>\n",
       "      <th>0</th>\n",
       "      <td>1</td>\n",
       "      <td>2025-10-06</td>\n",
       "      <td>2025-10-06 00:06:00</td>\n",
       "      <td>2025-10-06 00:25:18</td>\n",
       "      <td>Ahm</td>\n",
       "      <td>SJ</td>\n",
       "      <td>SJ</td>\n",
       "      <td>False</td>\n",
       "      <td>None</td>\n",
       "      <td>SJ</td>\n",
       "      <td>...</td>\n",
       "      <td>None</td>\n",
       "      <td>None</td>\n",
       "      <td>False</td>\n",
       "      <td>1402.95</td>\n",
       "      <td>21.25</td>\n",
       "      <td>160.0</td>\n",
       "      <td>0</td>\n",
       "      <td>0</td>\n",
       "      <td>10</td>\n",
       "      <td>True</td>\n",
       "    </tr>\n",
       "    <tr>\n",
       "      <th>1</th>\n",
       "      <td>1</td>\n",
       "      <td>2025-10-07</td>\n",
       "      <td>2025-10-07 00:06:00</td>\n",
       "      <td>2025-10-07 00:30:58</td>\n",
       "      <td>Ahm</td>\n",
       "      <td>SJ</td>\n",
       "      <td>SJ</td>\n",
       "      <td>False</td>\n",
       "      <td>None</td>\n",
       "      <td>SJ</td>\n",
       "      <td>...</td>\n",
       "      <td>None</td>\n",
       "      <td>None</td>\n",
       "      <td>False</td>\n",
       "      <td>284.55</td>\n",
       "      <td>16.52</td>\n",
       "      <td>160.0</td>\n",
       "      <td>0</td>\n",
       "      <td>1</td>\n",
       "      <td>10</td>\n",
       "      <td>True</td>\n",
       "    </tr>\n",
       "    <tr>\n",
       "      <th>2</th>\n",
       "      <td>1</td>\n",
       "      <td>2025-10-10</td>\n",
       "      <td>2025-10-10 19:47:00</td>\n",
       "      <td>2025-10-10 19:47:05</td>\n",
       "      <td>Cst</td>\n",
       "      <td>SJ</td>\n",
       "      <td>SJ</td>\n",
       "      <td>False</td>\n",
       "      <td>None</td>\n",
       "      <td>SJ</td>\n",
       "      <td>...</td>\n",
       "      <td>None</td>\n",
       "      <td>None</td>\n",
       "      <td>False</td>\n",
       "      <td>197.35</td>\n",
       "      <td>-2.57</td>\n",
       "      <td>135.0</td>\n",
       "      <td>19</td>\n",
       "      <td>4</td>\n",
       "      <td>10</td>\n",
       "      <td>True</td>\n",
       "    </tr>\n",
       "    <tr>\n",
       "      <th>3</th>\n",
       "      <td>1</td>\n",
       "      <td>2025-10-11</td>\n",
       "      <td>2025-10-11 00:02:00</td>\n",
       "      <td>2025-10-11 00:02:43</td>\n",
       "      <td>Ahm</td>\n",
       "      <td>SJ</td>\n",
       "      <td>SJ</td>\n",
       "      <td>False</td>\n",
       "      <td>None</td>\n",
       "      <td>SJ</td>\n",
       "      <td>...</td>\n",
       "      <td>None</td>\n",
       "      <td>None</td>\n",
       "      <td>False</td>\n",
       "      <td>208.65</td>\n",
       "      <td>4.37</td>\n",
       "      <td>224.0</td>\n",
       "      <td>0</td>\n",
       "      <td>5</td>\n",
       "      <td>10</td>\n",
       "      <td>False</td>\n",
       "    </tr>\n",
       "    <tr>\n",
       "      <th>4</th>\n",
       "      <td>1</td>\n",
       "      <td>2025-10-12</td>\n",
       "      <td>2025-10-12 21:17:00</td>\n",
       "      <td>2025-10-12 21:17:36</td>\n",
       "      <td>Bx</td>\n",
       "      <td>SJ</td>\n",
       "      <td>SJ</td>\n",
       "      <td>False</td>\n",
       "      <td>Ingen</td>\n",
       "      <td>SJ</td>\n",
       "      <td>...</td>\n",
       "      <td>None</td>\n",
       "      <td>None</td>\n",
       "      <td>False</td>\n",
       "      <td>131.93</td>\n",
       "      <td>2.53</td>\n",
       "      <td>80.0</td>\n",
       "      <td>21</td>\n",
       "      <td>6</td>\n",
       "      <td>10</td>\n",
       "      <td>False</td>\n",
       "    </tr>\n",
       "  </tbody>\n",
       "</table>\n",
       "<p>5 rows × 25 columns</p>\n",
       "</div>"
      ],
      "text/plain": [
       "  AdvertisedTrainIdent    TripDate       start_planned        start_actual  \\\n",
       "0                    1  2025-10-06 2025-10-06 00:06:00 2025-10-06 00:25:18   \n",
       "1                    1  2025-10-07 2025-10-07 00:06:00 2025-10-07 00:30:58   \n",
       "2                    1  2025-10-10 2025-10-10 19:47:00 2025-10-10 19:47:05   \n",
       "3                    1  2025-10-11 2025-10-11 00:02:00 2025-10-11 00:02:43   \n",
       "4                    1  2025-10-12 2025-10-12 21:17:00 2025-10-12 21:17:36   \n",
       "\n",
       "  start_station start_owner start_operator  start_canceled start_deviation  \\\n",
       "0           Ahm          SJ             SJ           False            None   \n",
       "1           Ahm          SJ             SJ           False            None   \n",
       "2           Cst          SJ             SJ           False            None   \n",
       "3           Ahm          SJ             SJ           False            None   \n",
       "4            Bx          SJ             SJ           False           Ingen   \n",
       "\n",
       "  train_owner  ... end_deviation trip_typeoftraffic trip_canceled  \\\n",
       "0          SJ  ...          None               None         False   \n",
       "1          SJ  ...          None               None         False   \n",
       "2          SJ  ...          None               None         False   \n",
       "3          SJ  ...          None               None         False   \n",
       "4          SJ  ...          None               None         False   \n",
       "\n",
       "  duration_min  delay_minutes distance_km start_hour  start_weekday  \\\n",
       "0      1402.95          21.25       160.0          0              0   \n",
       "1       284.55          16.52       160.0          0              1   \n",
       "2       197.35          -2.57       135.0         19              4   \n",
       "3       208.65           4.37       224.0          0              5   \n",
       "4       131.93           2.53        80.0         21              6   \n",
       "\n",
       "   start_month  is_weekday  \n",
       "0           10        True  \n",
       "1           10        True  \n",
       "2           10        True  \n",
       "3           10       False  \n",
       "4           10       False  \n",
       "\n",
       "[5 rows x 25 columns]"
      ]
     },
     "metadata": {},
     "output_type": "display_data"
    },
    {
     "name": "stdout",
     "output_type": "stream",
     "text": [
      "\n",
      "Data types:\n",
      "AdvertisedTrainIdent            object\n",
      "TripDate                        object\n",
      "start_planned           datetime64[ns]\n",
      "start_actual            datetime64[ns]\n",
      "start_station                   object\n",
      "start_owner                     object\n",
      "start_operator                  object\n",
      "start_canceled                 boolean\n",
      "start_deviation                 object\n",
      "train_owner                     object\n",
      "start_typeoftraffic             object\n",
      "end_planned             datetime64[ns]\n",
      "end_actual              datetime64[ns]\n",
      "end_station                     object\n",
      "end_canceled                   boolean\n",
      "end_deviation                   object\n",
      "trip_typeoftraffic              object\n",
      "trip_canceled                  boolean\n",
      "duration_min                   float64\n",
      "delay_minutes                  float64\n",
      "distance_km                    float64\n",
      "start_hour                       int32\n",
      "start_weekday                    int32\n",
      "start_month                      int32\n",
      "is_weekday                        bool\n",
      "dtype: object\n",
      "\n",
      "Missing values:\n",
      "AdvertisedTrainIdent        0\n",
      "TripDate                    0\n",
      "start_planned               0\n",
      "start_actual                0\n",
      "start_station               0\n",
      "start_owner                84\n",
      "start_operator             81\n",
      "start_canceled              0\n",
      "start_deviation         15614\n",
      "train_owner              1342\n",
      "start_typeoftraffic     15745\n",
      "end_planned                 0\n",
      "end_actual                  0\n",
      "end_station                 0\n",
      "end_canceled                0\n",
      "end_deviation           15662\n",
      "trip_typeoftraffic      15665\n",
      "trip_canceled               0\n",
      "duration_min                0\n",
      "delay_minutes               0\n",
      "distance_km                 0\n",
      "start_hour                  0\n",
      "start_weekday               0\n",
      "start_month                 0\n",
      "is_weekday                  0\n",
      "dtype: int64\n",
      "\n",
      "Basic statistics:\n"
     ]
    },
    {
     "data": {
      "application/vnd.microsoft.datawrangler.viewer.v0+json": {
       "columns": [
        {
         "name": "index",
         "rawType": "object",
         "type": "string"
        },
        {
         "name": "start_planned",
         "rawType": "object",
         "type": "unknown"
        },
        {
         "name": "start_actual",
         "rawType": "object",
         "type": "unknown"
        },
        {
         "name": "end_planned",
         "rawType": "object",
         "type": "unknown"
        },
        {
         "name": "end_actual",
         "rawType": "object",
         "type": "unknown"
        },
        {
         "name": "duration_min",
         "rawType": "float64",
         "type": "float"
        },
        {
         "name": "delay_minutes",
         "rawType": "float64",
         "type": "float"
        },
        {
         "name": "distance_km",
         "rawType": "float64",
         "type": "float"
        },
        {
         "name": "start_hour",
         "rawType": "float64",
         "type": "float"
        },
        {
         "name": "start_weekday",
         "rawType": "float64",
         "type": "float"
        },
        {
         "name": "start_month",
         "rawType": "float64",
         "type": "float"
        }
       ],
       "ref": "1d2a0261-e6fb-46b8-bf6f-0d4c140dbce0",
       "rows": [
        [
         "count",
         "26402",
         "26402",
         "26402",
         "26402",
         "26402.0",
         "26402.0",
         "26402.0",
         "26402.0",
         "26402.0",
         "26402.0"
        ],
        [
         "mean",
         "2025-10-11 10:25:55.950306816",
         "2025-10-11 10:27:01.929348608",
         "2025-10-11 11:54:36.683584768",
         "2025-10-11 11:56:34.201442048",
         "89.53788084236042",
         "1.9586436633588364",
         "38.478069843193694",
         "11.022005908643285",
         "2.129762896750246",
         "10.0"
        ],
        [
         "min",
         "2025-10-02 10:18:00",
         "2025-10-02 10:24:16",
         "2025-10-02 10:33:00",
         "2025-10-02 10:43:16",
         "0.4",
         "-21.57",
         "0.0",
         "0.0",
         "0.0",
         "10.0"
        ],
        [
         "25%",
         "2025-10-07 17:40:00",
         "2025-10-07 17:40:17.500000",
         "2025-10-07 19:14:15",
         "2025-10-07 19:16:44.249999872",
         "35.0",
         "-0.5",
         "11.0",
         "6.0",
         "0.0",
         "10.0"
        ],
        [
         "50%",
         "2025-10-11 21:50:00",
         "2025-10-11 21:50:36",
         "2025-10-11 23:21:00",
         "2025-10-11 23:20:53",
         "67.6",
         "0.0",
         "21.0",
         "11.0",
         "1.0",
         "10.0"
        ],
        [
         "75%",
         "2025-10-14 04:37:00",
         "2025-10-14 04:38:46.249999872",
         "2025-10-14 06:07:45",
         "2025-10-14 06:09:03.249999872",
         "106.2",
         "1.97",
         "47.0",
         "15.0",
         "4.0",
         "10.0"
        ],
        [
         "max",
         "2025-10-15 21:54:00",
         "2025-10-15 21:54:00",
         "2025-10-15 21:59:00",
         "2025-10-15 21:59:00",
         "1489.68",
         "251.85",
         "563.0",
         "23.0",
         "6.0",
         "10.0"
        ],
        [
         "std",
         null,
         null,
         null,
         null,
         "100.30612400271357",
         "7.047153852615281",
         "50.73727692850732",
         "5.465672284585234",
         "2.0598358771033216",
         "0.0"
        ]
       ],
       "shape": {
        "columns": 10,
        "rows": 8
       }
      },
      "text/html": [
       "<div>\n",
       "<style scoped>\n",
       "    .dataframe tbody tr th:only-of-type {\n",
       "        vertical-align: middle;\n",
       "    }\n",
       "\n",
       "    .dataframe tbody tr th {\n",
       "        vertical-align: top;\n",
       "    }\n",
       "\n",
       "    .dataframe thead th {\n",
       "        text-align: right;\n",
       "    }\n",
       "</style>\n",
       "<table border=\"1\" class=\"dataframe\">\n",
       "  <thead>\n",
       "    <tr style=\"text-align: right;\">\n",
       "      <th></th>\n",
       "      <th>start_planned</th>\n",
       "      <th>start_actual</th>\n",
       "      <th>end_planned</th>\n",
       "      <th>end_actual</th>\n",
       "      <th>duration_min</th>\n",
       "      <th>delay_minutes</th>\n",
       "      <th>distance_km</th>\n",
       "      <th>start_hour</th>\n",
       "      <th>start_weekday</th>\n",
       "      <th>start_month</th>\n",
       "    </tr>\n",
       "  </thead>\n",
       "  <tbody>\n",
       "    <tr>\n",
       "      <th>count</th>\n",
       "      <td>26402</td>\n",
       "      <td>26402</td>\n",
       "      <td>26402</td>\n",
       "      <td>26402</td>\n",
       "      <td>26402.000000</td>\n",
       "      <td>26402.000000</td>\n",
       "      <td>26402.000000</td>\n",
       "      <td>26402.000000</td>\n",
       "      <td>26402.000000</td>\n",
       "      <td>26402.0</td>\n",
       "    </tr>\n",
       "    <tr>\n",
       "      <th>mean</th>\n",
       "      <td>2025-10-11 10:25:55.950306816</td>\n",
       "      <td>2025-10-11 10:27:01.929348608</td>\n",
       "      <td>2025-10-11 11:54:36.683584768</td>\n",
       "      <td>2025-10-11 11:56:34.201442048</td>\n",
       "      <td>89.537881</td>\n",
       "      <td>1.958644</td>\n",
       "      <td>38.478070</td>\n",
       "      <td>11.022006</td>\n",
       "      <td>2.129763</td>\n",
       "      <td>10.0</td>\n",
       "    </tr>\n",
       "    <tr>\n",
       "      <th>min</th>\n",
       "      <td>2025-10-02 10:18:00</td>\n",
       "      <td>2025-10-02 10:24:16</td>\n",
       "      <td>2025-10-02 10:33:00</td>\n",
       "      <td>2025-10-02 10:43:16</td>\n",
       "      <td>0.400000</td>\n",
       "      <td>-21.570000</td>\n",
       "      <td>0.000000</td>\n",
       "      <td>0.000000</td>\n",
       "      <td>0.000000</td>\n",
       "      <td>10.0</td>\n",
       "    </tr>\n",
       "    <tr>\n",
       "      <th>25%</th>\n",
       "      <td>2025-10-07 17:40:00</td>\n",
       "      <td>2025-10-07 17:40:17.500000</td>\n",
       "      <td>2025-10-07 19:14:15</td>\n",
       "      <td>2025-10-07 19:16:44.249999872</td>\n",
       "      <td>35.000000</td>\n",
       "      <td>-0.500000</td>\n",
       "      <td>11.000000</td>\n",
       "      <td>6.000000</td>\n",
       "      <td>0.000000</td>\n",
       "      <td>10.0</td>\n",
       "    </tr>\n",
       "    <tr>\n",
       "      <th>50%</th>\n",
       "      <td>2025-10-11 21:50:00</td>\n",
       "      <td>2025-10-11 21:50:36</td>\n",
       "      <td>2025-10-11 23:21:00</td>\n",
       "      <td>2025-10-11 23:20:53</td>\n",
       "      <td>67.600000</td>\n",
       "      <td>0.000000</td>\n",
       "      <td>21.000000</td>\n",
       "      <td>11.000000</td>\n",
       "      <td>1.000000</td>\n",
       "      <td>10.0</td>\n",
       "    </tr>\n",
       "    <tr>\n",
       "      <th>75%</th>\n",
       "      <td>2025-10-14 04:37:00</td>\n",
       "      <td>2025-10-14 04:38:46.249999872</td>\n",
       "      <td>2025-10-14 06:07:45</td>\n",
       "      <td>2025-10-14 06:09:03.249999872</td>\n",
       "      <td>106.200000</td>\n",
       "      <td>1.970000</td>\n",
       "      <td>47.000000</td>\n",
       "      <td>15.000000</td>\n",
       "      <td>4.000000</td>\n",
       "      <td>10.0</td>\n",
       "    </tr>\n",
       "    <tr>\n",
       "      <th>max</th>\n",
       "      <td>2025-10-15 21:54:00</td>\n",
       "      <td>2025-10-15 21:54:00</td>\n",
       "      <td>2025-10-15 21:59:00</td>\n",
       "      <td>2025-10-15 21:59:00</td>\n",
       "      <td>1489.680000</td>\n",
       "      <td>251.850000</td>\n",
       "      <td>563.000000</td>\n",
       "      <td>23.000000</td>\n",
       "      <td>6.000000</td>\n",
       "      <td>10.0</td>\n",
       "    </tr>\n",
       "    <tr>\n",
       "      <th>std</th>\n",
       "      <td>NaN</td>\n",
       "      <td>NaN</td>\n",
       "      <td>NaN</td>\n",
       "      <td>NaN</td>\n",
       "      <td>100.306124</td>\n",
       "      <td>7.047154</td>\n",
       "      <td>50.737277</td>\n",
       "      <td>5.465672</td>\n",
       "      <td>2.059836</td>\n",
       "      <td>0.0</td>\n",
       "    </tr>\n",
       "  </tbody>\n",
       "</table>\n",
       "</div>"
      ],
      "text/plain": [
       "                       start_planned                   start_actual  \\\n",
       "count                          26402                          26402   \n",
       "mean   2025-10-11 10:25:55.950306816  2025-10-11 10:27:01.929348608   \n",
       "min              2025-10-02 10:18:00            2025-10-02 10:24:16   \n",
       "25%              2025-10-07 17:40:00     2025-10-07 17:40:17.500000   \n",
       "50%              2025-10-11 21:50:00            2025-10-11 21:50:36   \n",
       "75%              2025-10-14 04:37:00  2025-10-14 04:38:46.249999872   \n",
       "max              2025-10-15 21:54:00            2025-10-15 21:54:00   \n",
       "std                              NaN                            NaN   \n",
       "\n",
       "                         end_planned                     end_actual  \\\n",
       "count                          26402                          26402   \n",
       "mean   2025-10-11 11:54:36.683584768  2025-10-11 11:56:34.201442048   \n",
       "min              2025-10-02 10:33:00            2025-10-02 10:43:16   \n",
       "25%              2025-10-07 19:14:15  2025-10-07 19:16:44.249999872   \n",
       "50%              2025-10-11 23:21:00            2025-10-11 23:20:53   \n",
       "75%              2025-10-14 06:07:45  2025-10-14 06:09:03.249999872   \n",
       "max              2025-10-15 21:59:00            2025-10-15 21:59:00   \n",
       "std                              NaN                            NaN   \n",
       "\n",
       "       duration_min  delay_minutes   distance_km    start_hour  start_weekday  \\\n",
       "count  26402.000000   26402.000000  26402.000000  26402.000000   26402.000000   \n",
       "mean      89.537881       1.958644     38.478070     11.022006       2.129763   \n",
       "min        0.400000     -21.570000      0.000000      0.000000       0.000000   \n",
       "25%       35.000000      -0.500000     11.000000      6.000000       0.000000   \n",
       "50%       67.600000       0.000000     21.000000     11.000000       1.000000   \n",
       "75%      106.200000       1.970000     47.000000     15.000000       4.000000   \n",
       "max     1489.680000     251.850000    563.000000     23.000000       6.000000   \n",
       "std      100.306124       7.047154     50.737277      5.465672       2.059836   \n",
       "\n",
       "       start_month  \n",
       "count      26402.0  \n",
       "mean          10.0  \n",
       "min           10.0  \n",
       "25%           10.0  \n",
       "50%           10.0  \n",
       "75%           10.0  \n",
       "max           10.0  \n",
       "std            0.0  "
      ]
     },
     "metadata": {},
     "output_type": "display_data"
    }
   ],
   "source": [
    "print(\"Dataset shape:\", df_processed.shape)\n",
    "print(\"\\nFirst rows:\")\n",
    "display(df_processed.head())\n",
    "print(\"\\nData types:\")\n",
    "print(df_processed.dtypes)\n",
    "print(\"\\nMissing values:\")\n",
    "print(df_processed.isnull().sum())\n",
    "print(\"\\nBasic statistics:\")\n",
    "display(df_processed.describe())"
   ]
  },
  {
   "cell_type": "markdown",
   "id": "e89a89c1",
   "metadata": {},
   "source": [
    "### Exploratory Data Analysis (EDA)"
   ]
  },
  {
   "cell_type": "code",
   "execution_count": null,
   "id": "2c4902b5",
   "metadata": {},
   "outputs": [
    {
     "data": {
      "image/png": "[encoded data removed]",
      "text/plain": [
       "<Figure size 1500x500 with 2 Axes>"
      ]
     },
     "metadata": {},
     "output_type": "display_data"
    },
    {
     "name": "stdout",
     "output_type": "stream",
     "text": [
      "Medel försening: 1.96 min\n",
      "Median försening: 0.00 min\n",
      "Max försening: 251.85 min\n"
     ]
    }
   ],
   "source": [
    "# Distribution av target variabel med Seaborn\n",
    "fig, axes = plt.subplots(1, 2, figsize=(15, 5))\n",
    "\n",
    "# --- Vänstra diagrammet: Seaborn Histplot (Histogram och KDE) ---\n",
    "sns.histplot(\n",
    "    data=df_processed, \n",
    "    x='delay_minutes', \n",
    "    bins=50, \n",
    "    kde=False, # Lägger till en skattning av täthetsfunktionen (Density Estimate)\n",
    "    edgecolor='black',\n",
    "    ax=axes[0]\n",
    ")\n",
    "axes[0].set_title('Distribution av Förseningar (Seaborn)')\n",
    "axes[0].set_xlabel('Försening (minuter)')\n",
    "axes[0].set_ylabel('Frekvens')\n",
    "\n",
    "# --- Högra diagrammet: Matplotlib Boxplot (För outliers) ---\n",
    "# Boxplot är oftast snabbare och tydligare att göra med plt.boxplot\n",
    "axes[1].boxplot(df_processed['delay_minutes'])\n",
    "axes[1].set_title('Boxplot av Förseningar')\n",
    "axes[1].set_ylabel('Försening (minuter)')\n",
    "# Ta bort X-axeln eftersom den inte har någon meningsfull kategori\n",
    "axes[1].set_xticks([]) \n",
    "\n",
    "plt.tight_layout()\n",
    "plt.show()\n",
    "\n",
    "# Utskrift av statistik (oförändrad)\n",
    "print(f\"Medel försening: {df_processed['delay_minutes'].mean():.2f} min\")\n",
    "print(f\"Median försening: {df_processed['delay_minutes'].median():.2f} min\")\n",
    "print(f\"Max försening: {df_processed['delay_minutes'].max():.2f} min\")"
   ]
  },
  {
   "cell_type": "code",
   "execution_count": null,
   "id": "f46461e3",
   "metadata": {},
   "outputs": [
    {
     "data": {
      "image/png": "[encoded data removed]",
      "text/plain": [
       "<Figure size 800x600 with 2 Axes>"
      ]
     },
     "metadata": {},
     "output_type": "display_data"
    }
   ],
   "source": [
    "# 1. Välj alla numeriska kolumner\n",
    "numeric_cols = df_processed.select_dtypes(include=[np.number]).columns\n",
    "\n",
    "# 2. Exkludera alla Label Encoded-kolumner (de slutar på '_encoded')\n",
    "# och exkludera din tidigare target (delay_minutes)\n",
    "excluded_suffixes = ('_encoded', 'delay_minutes')\n",
    "\n",
    "filtered_numeric_cols = [\n",
    "    col for col in numeric_cols \n",
    "    if not col.endswith(excluded_suffixes) \n",
    "]\n",
    "    \n",
    "# 3. Beräkna korrelationsmatrisen\n",
    "correlation_matrix = df_processed[filtered_numeric_cols].corr()\n",
    "\n",
    "plt.figure(figsize=(8, 6))\n",
    "# Här kan det vara meningsfullt att titta på korrelationen mot target-variabeln\n",
    "sns.heatmap(\n",
    "    correlation_matrix, \n",
    "    annot=True, \n",
    "    cmap='coolwarm', \n",
    "    center=0, \n",
    "    fmt='.2f', \n",
    "    square=True, \n",
    "    linewidths=1\n",
    ")\n",
    "plt.title('Korrelationsmatris - Endast Meningsfulla Numeriska Variabler')\n",
    "plt.tight_layout()\n",
    "plt.show()"
   ]
  },
  {
   "cell_type": "code",
   "execution_count": 74,
   "id": "723e3333",
   "metadata": {},
   "outputs": [
    {
     "name": "stdout",
     "output_type": "stream",
     "text": [
      "\n",
      "Korrelation med delay_minutes:\n",
      "is_delayed_3min         1.000000\n",
      "duration_min            0.150199\n",
      "distance_km             0.121329\n",
      "planned_duration_min    0.118929\n",
      "start_minute           -0.027455\n",
      "is_rush_hour           -0.030175\n",
      "start_hour             -0.048109\n",
      "start_weekday          -0.099555\n",
      "start_day_of_month     -0.114558\n",
      "start_month                  NaN\n",
      "Name: is_delayed_3min, dtype: float64\n"
     ]
    }
   ],
   "source": [
    "# Feature importance visualization\n",
    "print(\"\\nKorrelation med delay_minutes:\")\n",
    "print(correlation_matrix['is_delayed_3min'].sort_values(ascending=False))"
   ]
  },
  {
   "cell_type": "markdown",
   "id": "dd54fb3e",
   "metadata": {},
   "source": [
    "### Feature Engineering"
   ]
  },
  {
   "cell_type": "code",
   "execution_count": 75,
   "id": "16f5a0ab",
   "metadata": {},
   "outputs": [],
   "source": [
    "# Feature Engineering\n",
    "df_processed = df_processed.copy()\n",
    "\n",
    "# Skapa en ny kolumn för klassificering\n",
    "df_processed['is_delayed_3min'] = (df_processed['delay_minutes'] >= 3).astype(int)\n",
    "\n",
    "# VIKTIGT: Konvertera datetime-kolumner till pandas datetime\n",
    "datetime_cols = ['start_planned', 'start_actual', 'end_planned', 'end_actual']\n",
    "for col in datetime_cols:\n",
    "    if col in df_processed.columns:\n",
    "        df_processed[col] = pd.to_datetime(df_processed[col])\n",
    "\n",
    "# Extrahera TIME-based features från datetime\n",
    "if 'start_planned' in df_processed.columns:\n",
    "    df_processed['start_minute'] = df_processed['start_planned'].dt.minute\n",
    "    df_processed['start_day_of_month'] = df_processed['start_planned'].dt.day\n",
    "\n",
    "# Planerad duration\n",
    "if 'end_planned' in df_processed.columns and 'start_planned' in df_processed.columns:\n",
    "    df_processed['planned_duration_min'] = (\n",
    "        df_processed['end_planned'] - df_processed['start_planned']\n",
    "    ).dt.total_seconds() / 60\n",
    "\n",
    "# Rush hour feature\n",
    "df_processed['is_rush_hour'] = df_processed['start_hour'].isin([7,8,9,16,17,18]).astype(int)\n",
    "\n",
    "# Hantera kategoriska variabler med Label Encoding, För tree-based models fungerar Label Encoding utmärkt!\n",
    "label_encoders = {}\n",
    "categorical_cols = ['start_station', 'end_station', 'start_owner', 'train_owner',\n",
    "                   'start_operator', 'end_owner']\n",
    "\n",
    "for col in categorical_cols:\n",
    "    if col in df_processed.columns:\n",
    "        le = LabelEncoder()\n",
    "        df_processed[col + '_encoded'] = le.fit_transform(df_processed[col].astype(str))\n",
    "        label_encoders[col] = le\n"
   ]
  },
  {
   "cell_type": "code",
   "execution_count": 76,
   "id": "e05246db",
   "metadata": {},
   "outputs": [
    {
     "name": "stdout",
     "output_type": "stream",
     "text": [
      "Nya features skapade:\n",
      "Numeriska: ['is_delayed_3min', 'start_minute', 'start_day_of_month', 'planned_duration_min', 'is_rush_hour']\n",
      "Encodade kategoriska: ['start_station_encoded', 'end_station_encoded', 'start_owner_encoded', 'train_owner_encoded', 'start_operator_encoded']\n",
      "\n",
      "Antal features totalt: 35\n"
     ]
    }
   ],
   "source": [
    "# Kolla nya features\n",
    "print(\"Nya features skapade:\")\n",
    "new_features = ['is_delayed_3min', 'start_minute', 'start_day_of_month', 'delay_at_start_min', \n",
    "                'delay_at_end_min', 'planned_duration_min', 'is_rush_hour', \n",
    "                'avg_speed_kmh']\n",
    "existing_new = [f for f in new_features if f in df_processed.columns]\n",
    "print(\"Numeriska:\", existing_new)\n",
    "\n",
    "encoded_features = [col for col in df_processed.columns if col.endswith('_encoded')]\n",
    "print(\"Encodade kategoriska:\", encoded_features)\n",
    "print(\"\\nAntal features totalt:\", len(df_processed.columns))"
   ]
  },
  {
   "cell_type": "markdown",
   "id": "e667c829",
   "metadata": {},
   "source": [
    "### Data splitting and Scaling"
   ]
  },
  {
   "cell_type": "code",
   "execution_count": null,
   "id": "f3e904dd",
   "metadata": {},
   "outputs": [
    {
     "name": "stdout",
     "output_type": "stream",
     "text": [
      "Features som används: 14\n",
      "\n",
      "Features:\n",
      " 1. distance_km\n",
      " 2. start_hour\n",
      " 3. start_weekday\n",
      " 4. start_month\n",
      " 5. is_weekday\n",
      " 6. start_minute\n",
      " 7. start_day_of_month\n",
      " 8. planned_duration_min\n",
      " 9. is_rush_hour\n",
      "10. start_station_encoded\n",
      "11. end_station_encoded\n",
      "12. start_owner_encoded\n",
      "13. train_owner_encoded\n",
      "14. start_operator_encoded\n",
      "\n",
      "Datatyper i X:\n",
      "int64      6\n",
      "int32      5\n",
      "float64    2\n",
      "bool       1\n",
      "Name: count, dtype: int64\n",
      "\n",
      "NaN värden per kolumn:\n",
      "Inga NaN värden!\n"
     ]
    }
   ],
   "source": [
    "# Cell 9: Definiera features och target\n",
    "exclude_cols = ['delay_minutes',  # TARGET\n",
    "                'is_delayed_3min', # Binär target\n",
    "                'start_planned', 'start_actual', 'end_planned', 'end_actual', 'TripDate',\n",
    "                'IsDelayed', \n",
    "                'delay_at_end_min', # Läckage\n",
    "                'duration_min',     # Läckage\n",
    "                'avg_speed_kmh',    # Läckage\n",
    "                'delay_at_start_min', # Läckage\n",
    "                'start_station', 'end_station', 'start_owner', 'train_owner',\n",
    "                'start_operator', 'end_owner', 'AdvertisedTrainIdent',\n",
    "                'start_canceled', 'end_canceled', 'trip_canceled']\n",
    "\n",
    "feature_cols = [col for col in df_processed.columns \n",
    "                if col not in exclude_cols and \n",
    "                df_processed[col].dtype in ['int32', 'int64', 'float64', 'bool']]\n",
    "\n",
    "print(f\"Features som används: {len(feature_cols)}\")\n",
    "print(\"\\nFeatures:\")\n",
    "for i, col in enumerate(feature_cols, 1):\n",
    "    print(f\"{i:2}. {col}\")\n",
    "\n",
    "X = df_processed[feature_cols]\n",
    "y = df_processed['is_delayed_3min'] # Klassificering\n",
    "\n",
    "# Kontrollera datatyper\n",
    "print(f\"\\nDatatyper i X:\")\n",
    "print(X.dtypes.value_counts())\n",
    "\n",
    "# Kontrollera för NaN/Inf värden\n",
    "print(f\"\\nNaN värden per kolumn:\")\n",
    "nan_counts = X.isnull().sum()\n",
    "if nan_counts.sum() > 0:\n",
    "    print(nan_counts[nan_counts > 0])\n",
    "else:\n",
    "    print(\"Inga NaN värden!\")"
   ]
  },
  {
   "cell_type": "code",
   "execution_count": 29,
   "id": "98a7d3be",
   "metadata": {},
   "outputs": [
    {
     "name": "stdout",
     "output_type": "stream",
     "text": [
      "\n",
      "Training set: (21121, 14)\n",
      "Test set: (5281, 14)\n",
      "Target range: 0.0 - 1.0 min\n",
      "Target mean: 0.2 min\n"
     ]
    }
   ],
   "source": [
    "# Split data\n",
    "X_train, X_test, y_train, y_test = train_test_split(\n",
    "    X, y, test_size=0.2, random_state=42\n",
    ")\n",
    "\n",
    "print(f\"\\nTraining set: {X_train.shape}\")\n",
    "print(f\"Test set: {X_test.shape}\")\n",
    "print(f\"Target range: {y.min():.1f} - {y.max():.1f} min\")\n",
    "print(f\"Target mean: {y.mean():.1f} min\")"
   ]
  },
  {
   "cell_type": "code",
   "execution_count": 30,
   "id": "ae4f94bc",
   "metadata": {},
   "outputs": [
    {
     "data": {
      "application/vnd.microsoft.datawrangler.viewer.v0+json": {
       "columns": [
        {
         "name": "index",
         "rawType": "object",
         "type": "string"
        },
        {
         "name": "0",
         "rawType": "object",
         "type": "unknown"
        }
       ],
       "ref": "3c2c5e2b-60ce-4876-b79f-4fe4e00d717e",
       "rows": [
        [
         "AdvertisedTrainIdent",
         "object"
        ],
        [
         "TripDate",
         "object"
        ],
        [
         "start_planned",
         "datetime64[ns]"
        ],
        [
         "start_actual",
         "datetime64[ns]"
        ],
        [
         "start_station",
         "object"
        ],
        [
         "start_owner",
         "object"
        ],
        [
         "start_operator",
         "object"
        ],
        [
         "start_canceled",
         "boolean"
        ],
        [
         "start_deviation",
         "object"
        ],
        [
         "train_owner",
         "object"
        ],
        [
         "start_typeoftraffic",
         "object"
        ],
        [
         "end_planned",
         "datetime64[ns]"
        ],
        [
         "end_actual",
         "datetime64[ns]"
        ],
        [
         "end_station",
         "object"
        ],
        [
         "end_canceled",
         "boolean"
        ],
        [
         "end_deviation",
         "object"
        ],
        [
         "trip_typeoftraffic",
         "object"
        ],
        [
         "trip_canceled",
         "boolean"
        ],
        [
         "duration_min",
         "float64"
        ],
        [
         "delay_minutes",
         "float64"
        ],
        [
         "distance_km",
         "float64"
        ],
        [
         "start_hour",
         "int32"
        ],
        [
         "start_weekday",
         "int32"
        ],
        [
         "start_month",
         "int32"
        ],
        [
         "is_weekday",
         "bool"
        ],
        [
         "is_delayed_3min",
         "int64"
        ],
        [
         "start_minute",
         "int32"
        ],
        [
         "start_day_of_month",
         "int32"
        ],
        [
         "planned_duration_min",
         "float64"
        ],
        [
         "is_rush_hour",
         "int64"
        ],
        [
         "start_station_encoded",
         "int64"
        ],
        [
         "end_station_encoded",
         "int64"
        ],
        [
         "start_owner_encoded",
         "int64"
        ],
        [
         "train_owner_encoded",
         "int64"
        ],
        [
         "start_operator_encoded",
         "int64"
        ]
       ],
       "shape": {
        "columns": 1,
        "rows": 35
       }
      },
      "text/plain": [
       "AdvertisedTrainIdent              object\n",
       "TripDate                          object\n",
       "start_planned             datetime64[ns]\n",
       "start_actual              datetime64[ns]\n",
       "start_station                     object\n",
       "start_owner                       object\n",
       "start_operator                    object\n",
       "start_canceled                   boolean\n",
       "start_deviation                   object\n",
       "train_owner                       object\n",
       "start_typeoftraffic               object\n",
       "end_planned               datetime64[ns]\n",
       "end_actual                datetime64[ns]\n",
       "end_station                       object\n",
       "end_canceled                     boolean\n",
       "end_deviation                     object\n",
       "trip_typeoftraffic                object\n",
       "trip_canceled                    boolean\n",
       "duration_min                     float64\n",
       "delay_minutes                    float64\n",
       "distance_km                      float64\n",
       "start_hour                         int32\n",
       "start_weekday                      int32\n",
       "start_month                        int32\n",
       "is_weekday                          bool\n",
       "is_delayed_3min                    int64\n",
       "start_minute                       int32\n",
       "start_day_of_month                 int32\n",
       "planned_duration_min             float64\n",
       "is_rush_hour                       int64\n",
       "start_station_encoded              int64\n",
       "end_station_encoded                int64\n",
       "start_owner_encoded                int64\n",
       "train_owner_encoded                int64\n",
       "start_operator_encoded             int64\n",
       "dtype: object"
      ]
     },
     "execution_count": 30,
     "metadata": {},
     "output_type": "execute_result"
    }
   ],
   "source": [
    "df_processed.dtypes"
   ]
  },
  {
   "cell_type": "code",
   "execution_count": 31,
   "id": "4343f2be",
   "metadata": {},
   "outputs": [
    {
     "name": "stdout",
     "output_type": "stream",
     "text": [
      "Scaling completed successfully!\n"
     ]
    }
   ],
   "source": [
    "# Scaling\n",
    "scaler = StandardScaler()\n",
    "X_train_scaled = scaler.fit_transform(X_train)\n",
    "X_test_scaled = scaler.transform(X_test)\n",
    "print(f\"Scaling completed successfully!\")"
   ]
  },
  {
   "cell_type": "markdown",
   "id": "79219381",
   "metadata": {},
   "source": [
    "### Model Training and Comparison"
   ]
  },
  {
   "cell_type": "code",
   "execution_count": null,
   "id": "a0b2404c",
   "metadata": {},
   "outputs": [
    {
     "name": "stdout",
     "output_type": "stream",
     "text": [
      "\n",
      "Tränar Logistic Regression...\n",
      "\n",
      "Tränar Random Forest...\n",
      "\n",
      "Tränar Gradient Boosting...\n",
      "\n",
      "Tränar XGBoost...\n"
     ]
    }
   ],
   "source": [
    "# Träna flera modeller\n",
    "models = {\n",
    "    'Logistic Regression': LogisticRegression(random_state=42, solver='liblinear'),\n",
    "    'Random Forest': RandomForestClassifier(n_estimators=100, random_state=42, n_jobs=-1, class_weight='balanced'),\n",
    "    'Gradient Boosting': GradientBoostingClassifier(n_estimators=100, random_state=42),\n",
    "    'XGBoost': XGBClassifier(n_estimators=100, random_state=42, scale_pos_weight=4.5, use_label_encoder=False, eval_metric='logloss', n_jobs=-1)\n",
    "}\n",
    "\n",
    "results = {}\n",
    "\n",
    "for name, model in models.items():\n",
    "    # Träna modell\n",
    "    print(f\"\\nTränar {name}...\")\n",
    "    model.fit(X_train_scaled, y_train)\n",
    "    \n",
    "    # Predicera\n",
    "    y_pred_train = model.predict(X_train_scaled)\n",
    "    y_pred_test = model.predict(X_test_scaled)\n",
    "    \n",
    "    # Vissa modeller (som LogisticRegression) har inte predict_proba, men de flesta i listan har det.\n",
    "    if hasattr(model, 'predict_proba'):\n",
    "        y_proba_test = model.predict_proba(X_test_scaled)[:, 1]\n",
    "    else:\n",
    "        y_proba_test = None\n",
    "\n",
    "    # Evaluera med KLASSIFICERINGSMÅTT\n",
    "    results[name] = {\n",
    "        'Train Accuracy': accuracy_score(y_train, y_pred_train),\n",
    "        'Test Accuracy': accuracy_score(y_test, y_pred_test),\n",
    "        \n",
    "        # Mått som är viktiga vid obalanserad data\n",
    "        'Test Precision': precision_score(y_test, y_pred_test, zero_division=0),\n",
    "        'Test Recall': recall_score(y_test, y_pred_test, zero_division=0),\n",
    "        'Test F1-Score': f1_score(y_test, y_pred_test, zero_division=0),\n",
    "        \n",
    "        # Area Under the ROC Curve (mått på modellens förmåga att skilja klasserna åt)\n",
    "        'Test ROC AUC': roc_auc_score(y_test, y_proba_test) if y_proba_test is not None else np.nan\n",
    "    }\n",
    "\n",
    "\n"
   ]
  },
  {
   "cell_type": "code",
   "execution_count": 78,
   "id": "39a589e9",
   "metadata": {},
   "outputs": [
    {
     "name": "stdout",
     "output_type": "stream",
     "text": [
      "\n",
      "Model Classification Performance Comparison:\n"
     ]
    },
    {
     "data": {
      "application/vnd.microsoft.datawrangler.viewer.v0+json": {
       "columns": [
        {
         "name": "index",
         "rawType": "object",
         "type": "string"
        },
        {
         "name": "Train Accuracy",
         "rawType": "float64",
         "type": "float"
        },
        {
         "name": "Test Accuracy",
         "rawType": "float64",
         "type": "float"
        },
        {
         "name": "Test Precision",
         "rawType": "float64",
         "type": "float"
        },
        {
         "name": "Test Recall",
         "rawType": "float64",
         "type": "float"
        },
        {
         "name": "Test F1-Score",
         "rawType": "float64",
         "type": "float"
        },
        {
         "name": "Test ROC AUC",
         "rawType": "float64",
         "type": "float"
        }
       ],
       "ref": "fcbf3e20-92db-48b6-b085-2a6f40e989c1",
       "rows": [
        [
         "Logistic Regression",
         "0.8028028975900763",
         "0.8132929369437607",
         "0.4878048780487805",
         "0.02030456852791878",
         "0.03898635477582846",
         "0.6539408634168014"
        ],
        [
         "Random Forest",
         "0.9999526537569244",
         "0.815754591933346",
         "0.5090634441087614",
         "0.34213197969543147",
         "0.40922890103217974",
         "0.7835096276550492"
        ],
        [
         "Gradient Boosting",
         "0.8167700392973818",
         "0.8167013823139557",
         "0.5491329479768786",
         "0.09644670050761421",
         "0.16407599309153714",
         "0.7680545708911135"
        ],
        [
         "XGBoost",
         "0.8209365086880356",
         "0.740958151865177",
         "0.3916242218449349",
         "0.7025380710659899",
         "0.502906976744186",
         "0.806191570012005"
        ]
       ],
       "shape": {
        "columns": 6,
        "rows": 4
       }
      },
      "text/html": [
       "<div>\n",
       "<style scoped>\n",
       "    .dataframe tbody tr th:only-of-type {\n",
       "        vertical-align: middle;\n",
       "    }\n",
       "\n",
       "    .dataframe tbody tr th {\n",
       "        vertical-align: top;\n",
       "    }\n",
       "\n",
       "    .dataframe thead th {\n",
       "        text-align: right;\n",
       "    }\n",
       "</style>\n",
       "<table border=\"1\" class=\"dataframe\">\n",
       "  <thead>\n",
       "    <tr style=\"text-align: right;\">\n",
       "      <th></th>\n",
       "      <th>Train Accuracy</th>\n",
       "      <th>Test Accuracy</th>\n",
       "      <th>Test Precision</th>\n",
       "      <th>Test Recall</th>\n",
       "      <th>Test F1-Score</th>\n",
       "      <th>Test ROC AUC</th>\n",
       "    </tr>\n",
       "  </thead>\n",
       "  <tbody>\n",
       "    <tr>\n",
       "      <th>Logistic Regression</th>\n",
       "      <td>0.802803</td>\n",
       "      <td>0.813293</td>\n",
       "      <td>0.487805</td>\n",
       "      <td>0.020305</td>\n",
       "      <td>0.038986</td>\n",
       "      <td>0.653941</td>\n",
       "    </tr>\n",
       "    <tr>\n",
       "      <th>Random Forest</th>\n",
       "      <td>0.999953</td>\n",
       "      <td>0.815755</td>\n",
       "      <td>0.509063</td>\n",
       "      <td>0.342132</td>\n",
       "      <td>0.409229</td>\n",
       "      <td>0.783510</td>\n",
       "    </tr>\n",
       "    <tr>\n",
       "      <th>Gradient Boosting</th>\n",
       "      <td>0.816770</td>\n",
       "      <td>0.816701</td>\n",
       "      <td>0.549133</td>\n",
       "      <td>0.096447</td>\n",
       "      <td>0.164076</td>\n",
       "      <td>0.768055</td>\n",
       "    </tr>\n",
       "    <tr>\n",
       "      <th>XGBoost</th>\n",
       "      <td>0.820937</td>\n",
       "      <td>0.740958</td>\n",
       "      <td>0.391624</td>\n",
       "      <td>0.702538</td>\n",
       "      <td>0.502907</td>\n",
       "      <td>0.806192</td>\n",
       "    </tr>\n",
       "  </tbody>\n",
       "</table>\n",
       "</div>"
      ],
      "text/plain": [
       "                     Train Accuracy  Test Accuracy  Test Precision  \\\n",
       "Logistic Regression        0.802803       0.813293        0.487805   \n",
       "Random Forest              0.999953       0.815755        0.509063   \n",
       "Gradient Boosting          0.816770       0.816701        0.549133   \n",
       "XGBoost                    0.820937       0.740958        0.391624   \n",
       "\n",
       "                     Test Recall  Test F1-Score  Test ROC AUC  \n",
       "Logistic Regression     0.020305       0.038986      0.653941  \n",
       "Random Forest           0.342132       0.409229      0.783510  \n",
       "Gradient Boosting       0.096447       0.164076      0.768055  \n",
       "XGBoost                 0.702538       0.502907      0.806192  "
      ]
     },
     "metadata": {},
     "output_type": "display_data"
    },
    {
     "data": {
      "image/png": "[encoded data removed]",
      "text/plain": [
       "<Figure size 1800x600 with 3 Axes>"
      ]
     },
     "metadata": {},
     "output_type": "display_data"
    }
   ],
   "source": [
    "# Visa resultat\n",
    "results_df = pd.DataFrame(results).T\n",
    "print(\"\\nModel Classification Performance Comparison:\")\n",
    "display(results_df)\n",
    "\n",
    "# Visualisera\n",
    "fig, axes = plt.subplots(1, 3, figsize=(18, 6)) # Ändrat till 1 rad, 3 kolumner för att visa fler mått\n",
    "\n",
    "# --- Diagram 1: Accuracy (Noggrannhet) ---\n",
    "# Jämför Träning (Train) och Test Accuracy för att upptäcka överanpassning\n",
    "results_df[['Train Accuracy', 'Test Accuracy']].plot(kind='bar', ax=axes[0])\n",
    "axes[0].set_title('Noggrannhet: Träning vs. Test')\n",
    "axes[0].set_ylabel('Accuracy Score')\n",
    "axes[0].tick_params(axis='x', rotation=45)\n",
    "axes[0].legend(loc='lower right')\n",
    "axes[0].set_ylim(0.5, 1.0) # Sätt rimliga gränser\n",
    "\n",
    "# --- Diagram 2: Viktiga Prediktionsmått (Precision, Recall, F1) ---\n",
    "# Visar de viktigaste testmåtten för balans och tillförlitlighet\n",
    "results_df[['Test Precision', 'Test Recall', 'Test F1-Score']].plot(kind='bar', ax=axes[1], cmap='viridis')\n",
    "axes[1].set_title('Testmått: Precision, Recall & F1-Score')\n",
    "axes[1].set_ylabel('Score')\n",
    "axes[1].tick_params(axis='x', rotation=45)\n",
    "axes[1].legend(loc='lower right')\n",
    "axes[1].set_ylim(0.5, 1.0) # Sätt rimliga gränser\n",
    "\n",
    "# --- Diagram 3: ROC AUC (Modellens åtskiljande förmåga) ---\n",
    "# ROC AUC är ett utmärkt sammanfattande mått för binär klassificering\n",
    "results_df['Test ROC AUC'].plot(kind='bar', ax=axes[2], color='darkorange')\n",
    "axes[2].set_title('Test ROC AUC Score')\n",
    "axes[2].set_ylabel('ROC AUC Score')\n",
    "axes[2].tick_params(axis='x', rotation=45)\n",
    "axes[2].set_ylim(0.5, 1.0) # Sätt rimliga gränser\n",
    "\n",
    "plt.tight_layout()\n",
    "plt.show()"
   ]
  },
  {
   "cell_type": "markdown",
   "id": "5b147fc7",
   "metadata": {},
   "source": [
    "### Hyperparameter Tuning"
   ]
  },
  {
   "cell_type": "code",
   "execution_count": 34,
   "id": "89da3f0a",
   "metadata": {},
   "outputs": [
    {
     "name": "stdout",
     "output_type": "stream",
     "text": [
      "\n",
      "Startar Grid Search för XGBoost Classifier...\n",
      "Fitting 5 folds for each of 54 candidates, totalling 270 fits\n",
      "\n",
      "==================================================\n",
      "Bästa parametrar (XGBoost): {'colsample_bytree': 0.7, 'learning_rate': 0.05, 'max_depth': 7, 'n_estimators': 300}\n",
      "Bästa CV F1-Score: 0.5151\n",
      "==================================================\n"
     ]
    }
   ],
   "source": [
    "# Hyperparameter tuning för bästa modellen\n",
    "\n",
    "param_grid_xgb = {\n",
    "    'n_estimators': [100, 200, 300],    # Minska antalet estimat i din första tuning, men ha minst ett par steg.\n",
    "    'max_depth': [3, 5, 7],             # Minska djupet jämfört med RF för att minska överanpassning\n",
    "    'learning_rate': [0.05, 0.1, 0.2],  # Viktigt: Justera inlärningstakten. Lägre = bättre precision, men långsammare.\n",
    "    'colsample_bytree': [0.7, 0.9]      # Styr hur aggressivt trädet får lära sig (standard = 1). Ett lägre värde kan hjälpa.\n",
    "}\n",
    "\n",
    "# 1. Initiera XGBoost-klassificeraren\n",
    "xgb = XGBClassifier(\n",
    "    random_state=42, \n",
    "    n_jobs=-1,\n",
    "    # Använd din beprövade vikt för att hantera obalanserad data\n",
    "    scale_pos_weight=4.5, \n",
    "    # Måste inkluderas för moderna versioner av XGBoost i scikit-learn\n",
    "    use_label_encoder=False, \n",
    "    eval_metric='logloss' \n",
    ")\n",
    "\n",
    "# 2. Initiera GridSearchCV\n",
    "grid_search = GridSearchCV(\n",
    "    estimator=xgb, \n",
    "    param_grid=param_grid_xgb, \n",
    "    cv=5, \n",
    "    # Ändrat scoring till 'f1' för att optimera balansen mellan Precision och Recall\n",
    "    scoring='f1', \n",
    "    n_jobs=-1, \n",
    "    verbose=2 # Ökade verbose för att se mer detaljerad utskrift under körning\n",
    ")\n",
    "\n",
    "# 3. Träna modellen\n",
    "# OBS: X_train_scaled och y_train är redan definierade från tidigare celler\n",
    "print(\"\\nStartar Grid Search för XGBoost Classifier...\")\n",
    "grid_search.fit(X_train_scaled, y_train)\n",
    "\n",
    "print(\"\\n\" + \"=\"*50)\n",
    "print(\"Bästa parametrar (XGBoost):\", grid_search.best_params_)\n",
    "# Vi utvärderar nu med F1-Score\n",
    "print(f\"Bästa CV F1-Score: {grid_search.best_score_:.4f}\") \n",
    "print(\"=\"*50)\n"
   ]
  },
  {
   "cell_type": "code",
   "execution_count": 35,
   "id": "5280191c",
   "metadata": {},
   "outputs": [
    {
     "name": "stdout",
     "output_type": "stream",
     "text": [
      "\n",
      "Final modell tränad och prediktioner genererade!\n"
     ]
    }
   ],
   "source": [
    "# Träna final modell (Hämta den bästa estimatormodellen från Grid Search)\n",
    "best_model = grid_search.best_estimator_\n",
    "\n",
    "# Predicera KLASSER (0 eller 1)\n",
    "y_pred_final = best_model.predict(X_test_scaled)\n",
    "\n",
    "# Predicera SANNOLIKHETER (Behövs för ROC AUC)\n",
    "# Vi tar sannolikheten för den positiva klassen (klass 1)\n",
    "y_proba_final = best_model.predict_proba(X_test_scaled)[:, 1] \n",
    "\n",
    "print(\"\\nFinal modell tränad och prediktioner genererade!\")"
   ]
  },
  {
   "cell_type": "markdown",
   "id": "9afe882b",
   "metadata": {},
   "source": [
    "###"
   ]
  },
  {
   "cell_type": "markdown",
   "id": "210e1e80",
   "metadata": {},
   "source": [
    "### Final Evaluation and Feature Importance"
   ]
  },
  {
   "cell_type": "code",
   "execution_count": 36,
   "id": "356559cf",
   "metadata": {},
   "outputs": [
    {
     "name": "stdout",
     "output_type": "stream",
     "text": [
      "\n",
      "============================================================\n",
      "FINAL XGBOOST CLASSIFIER PERFORMANCE\n",
      "============================================================\n",
      "Accuracy (Noggrannhet):     0.7296\n",
      "Precision:                  0.3817\n",
      "Recall (Träffsäkerhet):     0.7259\n",
      "F1-Score:                   0.5003\n",
      "ROC AUC Score:              0.8067\n",
      "============================================================\n",
      "\n",
      "Tolkning av Recall (viktigast för förseningar):\n",
      "- Modellen hittar 72.59% av alla faktiska förseningar.\n",
      "\n",
      "DETALJERAD TOLKNING (Confusion Matrix):\n",
      "- Korrekt förutspådda förseningar (True Positives, TP):     715\n",
      "- Missade förseningar (False Negatives, FN):                270\n",
      "- Falska larm (False Positives, FP):                        1158\n",
      "- Korrekt förutspådd icke-försening (True Negatives, TN):   3138\n",
      "\n",
      "Matrisen: \n",
      "[[3138 1158]\n",
      " [ 270  715]]\n"
     ]
    }
   ],
   "source": [
    "from sklearn.metrics import accuracy_score, f1_score, roc_auc_score, precision_score, recall_score, confusion_matrix\n",
    "\n",
    "# Beräkna final metrics\n",
    "accuracy = accuracy_score(y_test, y_pred_final)\n",
    "f1 = f1_score(y_test, y_pred_final)\n",
    "precision = precision_score(y_test, y_pred_final)\n",
    "recall = recall_score(y_test, y_pred_final)\n",
    "roc_auc = roc_auc_score(y_test, y_proba_final)\n",
    "\n",
    "# Beräkna Confusion Matrix för en mer detaljerad tolkning\n",
    "cm = confusion_matrix(y_test, y_pred_final)\n",
    "tn, fp, fn, tp = cm.ravel()\n",
    "\n",
    "print(\"\\n\" + \"=\"*60)\n",
    "print(\"FINAL XGBOOST CLASSIFIER PERFORMANCE\")\n",
    "print(\"=\"*60)\n",
    "print(f\"Accuracy (Noggrannhet):     {accuracy:.4f}\")\n",
    "print(f\"Precision:                  {precision:.4f}\")\n",
    "print(f\"Recall (Träffsäkerhet):     {recall:.4f}\")\n",
    "print(f\"F1-Score:                   {f1:.4f}\")\n",
    "print(f\"ROC AUC Score:              {roc_auc:.4f}\")\n",
    "print(\"=\"*60)\n",
    "\n",
    "print(\"\\nTolkning av Recall (viktigast för förseningar):\")\n",
    "print(f\"- Modellen hittar {recall:.2%} av alla faktiska förseningar.\")\n",
    "\n",
    "print(\"\\nDETALJERAD TOLKNING (Confusion Matrix):\")\n",
    "print(f\"- Korrekt förutspådda förseningar (True Positives, TP):     {tp}\")\n",
    "print(f\"- Missade förseningar (False Negatives, FN):                {fn}\")\n",
    "print(f\"- Falska larm (False Positives, FP):                        {fp}\")\n",
    "print(f\"- Korrekt förutspådd icke-försening (True Negatives, TN):   {tn}\")\n",
    "\n",
    "print(f\"\\nMatrisen: \\n{cm}\")"
   ]
  },
  {
   "cell_type": "code",
   "execution_count": 37,
   "id": "8bc1275b",
   "metadata": {},
   "outputs": [
    {
     "data": {
      "image/png": "[encoded data removed]",
      "text/plain": [
       "<Figure size 1200x800 with 1 Axes>"
      ]
     },
     "metadata": {},
     "output_type": "display_data"
    },
    {
     "name": "stdout",
     "output_type": "stream",
     "text": [
      "\n",
      "Top 10 viktigaste features:\n"
     ]
    },
    {
     "data": {
      "application/vnd.microsoft.datawrangler.viewer.v0+json": {
       "columns": [
        {
         "name": "index",
         "rawType": "int64",
         "type": "integer"
        },
        {
         "name": "feature",
         "rawType": "object",
         "type": "string"
        },
        {
         "name": "importance",
         "rawType": "float32",
         "type": "float"
        }
       ],
       "ref": "abe62e71-8ba9-430e-8656-41e848e0a1a7",
       "rows": [
        [
         "12",
         "train_owner_encoded",
         "0.11556802"
        ],
        [
         "4",
         "is_weekday",
         "0.11439912"
        ],
        [
         "11",
         "start_owner_encoded",
         "0.08703813"
        ],
        [
         "2",
         "start_weekday",
         "0.08587747"
        ],
        [
         "1",
         "start_hour",
         "0.08176447"
        ],
        [
         "7",
         "planned_duration_min",
         "0.081390254"
        ],
        [
         "6",
         "start_day_of_month",
         "0.07858984"
        ],
        [
         "13",
         "start_operator_encoded",
         "0.0749157"
        ],
        [
         "9",
         "start_station_encoded",
         "0.07123669"
        ],
        [
         "10",
         "end_station_encoded",
         "0.07083949"
        ]
       ],
       "shape": {
        "columns": 2,
        "rows": 10
       }
      },
      "text/html": [
       "<div>\n",
       "<style scoped>\n",
       "    .dataframe tbody tr th:only-of-type {\n",
       "        vertical-align: middle;\n",
       "    }\n",
       "\n",
       "    .dataframe tbody tr th {\n",
       "        vertical-align: top;\n",
       "    }\n",
       "\n",
       "    .dataframe thead th {\n",
       "        text-align: right;\n",
       "    }\n",
       "</style>\n",
       "<table border=\"1\" class=\"dataframe\">\n",
       "  <thead>\n",
       "    <tr style=\"text-align: right;\">\n",
       "      <th></th>\n",
       "      <th>feature</th>\n",
       "      <th>importance</th>\n",
       "    </tr>\n",
       "  </thead>\n",
       "  <tbody>\n",
       "    <tr>\n",
       "      <th>12</th>\n",
       "      <td>train_owner_encoded</td>\n",
       "      <td>0.115568</td>\n",
       "    </tr>\n",
       "    <tr>\n",
       "      <th>4</th>\n",
       "      <td>is_weekday</td>\n",
       "      <td>0.114399</td>\n",
       "    </tr>\n",
       "    <tr>\n",
       "      <th>11</th>\n",
       "      <td>start_owner_encoded</td>\n",
       "      <td>0.087038</td>\n",
       "    </tr>\n",
       "    <tr>\n",
       "      <th>2</th>\n",
       "      <td>start_weekday</td>\n",
       "      <td>0.085877</td>\n",
       "    </tr>\n",
       "    <tr>\n",
       "      <th>1</th>\n",
       "      <td>start_hour</td>\n",
       "      <td>0.081764</td>\n",
       "    </tr>\n",
       "    <tr>\n",
       "      <th>7</th>\n",
       "      <td>planned_duration_min</td>\n",
       "      <td>0.081390</td>\n",
       "    </tr>\n",
       "    <tr>\n",
       "      <th>6</th>\n",
       "      <td>start_day_of_month</td>\n",
       "      <td>0.078590</td>\n",
       "    </tr>\n",
       "    <tr>\n",
       "      <th>13</th>\n",
       "      <td>start_operator_encoded</td>\n",
       "      <td>0.074916</td>\n",
       "    </tr>\n",
       "    <tr>\n",
       "      <th>9</th>\n",
       "      <td>start_station_encoded</td>\n",
       "      <td>0.071237</td>\n",
       "    </tr>\n",
       "    <tr>\n",
       "      <th>10</th>\n",
       "      <td>end_station_encoded</td>\n",
       "      <td>0.070839</td>\n",
       "    </tr>\n",
       "  </tbody>\n",
       "</table>\n",
       "</div>"
      ],
      "text/plain": [
       "                   feature  importance\n",
       "12     train_owner_encoded    0.115568\n",
       "4               is_weekday    0.114399\n",
       "11     start_owner_encoded    0.087038\n",
       "2            start_weekday    0.085877\n",
       "1               start_hour    0.081764\n",
       "7     planned_duration_min    0.081390\n",
       "6       start_day_of_month    0.078590\n",
       "13  start_operator_encoded    0.074916\n",
       "9    start_station_encoded    0.071237\n",
       "10     end_station_encoded    0.070839"
      ]
     },
     "metadata": {},
     "output_type": "display_data"
    }
   ],
   "source": [
    "# Feature importance\n",
    "if hasattr(best_model, 'feature_importances_'):\n",
    "    feature_importance = pd.DataFrame({\n",
    "        'feature': feature_cols,\n",
    "        'importance': best_model.feature_importances_\n",
    "    }).sort_values('importance', ascending=False)\n",
    "    \n",
    "    plt.figure(figsize=(12, 8))\n",
    "    top_n = min(15, len(feature_importance))\n",
    "    plt.barh(range(top_n), feature_importance['importance'][:top_n])\n",
    "    plt.yticks(range(top_n), feature_importance['feature'][:top_n])\n",
    "    plt.xlabel('Importance')\n",
    "    plt.title(f'Top {top_n} Most Important Features')\n",
    "    plt.gca().invert_yaxis()\n",
    "    plt.tight_layout()\n",
    "    plt.show()\n",
    "    \n",
    "    print(f\"\\nTop 10 viktigaste features:\")\n",
    "    display(feature_importance.head(10))"
   ]
  },
  {
   "cell_type": "code",
   "execution_count": 38,
   "id": "a23a5704",
   "metadata": {},
   "outputs": [
    {
     "data": {
      "image/png": "[encoded data removed]",
      "text/plain": [
       "<Figure size 800x600 with 1 Axes>"
      ]
     },
     "metadata": {},
     "output_type": "display_data"
    },
    {
     "name": "stdout",
     "output_type": "stream",
     "text": [
      "\n",
      "Matrisinnehåll:\n",
      "Övre vänster (True Negatives): 3138 - Korrekt förutspådd i tid.\n",
      "Övre höger (False Positives): 1158 - Falska larm (Predicerad försening, men i tid).\n",
      "Nedre vänster (False Negatives): 270 - Missade förseningar (Predicerad i tid, men försenad).\n",
      "Nedre höger (True Positives): 715 - Korrekt förutspådd försening.\n"
     ]
    }
   ],
   "source": [
    "# Beräkna Confusion Matrix (y_test och y_pred_final är redan definierade)\n",
    "cm = confusion_matrix(y_test, y_pred_final)\n",
    "\n",
    "plt.figure(figsize=(8, 6))\n",
    "# Visualisera matrisen\n",
    "sns.heatmap(\n",
    "    cm, \n",
    "    annot=True, \n",
    "    fmt='d', \n",
    "    cmap='Blues',\n",
    "    cbar=False,\n",
    "    linewidths=0.5,\n",
    "    linecolor='black'\n",
    ")\n",
    "\n",
    "# Sätt etiketter för klasserna (0 = Inte Försenad, 1 = Försenad)\n",
    "plt.xlabel('Predicerad Klass')\n",
    "plt.ylabel('Faktisk Klass')\n",
    "plt.xticks([0.5, 1.5], ['Inte Försenad (0)', 'Försenad (1)'])\n",
    "plt.yticks([0.5, 1.5], ['Inte Försenad (0)', 'Försenad (1)'], rotation=0)\n",
    "plt.title('Confusion Matrix för Förseningsklassificering')\n",
    "plt.show()\n",
    "\n",
    "# Extra tolkning direkt under matrisen\n",
    "print(\"\\nMatrisinnehåll:\")\n",
    "print(f\"Övre vänster (True Negatives): {cm[0, 0]} - Korrekt förutspådd i tid.\")\n",
    "print(f\"Övre höger (False Positives): {cm[0, 1]} - Falska larm (Predicerad försening, men i tid).\")\n",
    "print(f\"Nedre vänster (False Negatives): {cm[1, 0]} - Missade förseningar (Predicerad i tid, men försenad).\")\n",
    "print(f\"Nedre höger (True Positives): {cm[1, 1]} - Korrekt förutspådd försening.\")"
   ]
  },
  {
   "cell_type": "code",
   "execution_count": 39,
   "id": "c631d149",
   "metadata": {},
   "outputs": [
    {
     "data": {
      "image/png": "[encoded data removed]",
      "text/plain": [
       "<Figure size 800x600 with 1 Axes>"
      ]
     },
     "metadata": {},
     "output_type": "display_data"
    },
    {
     "name": "stdout",
     "output_type": "stream",
     "text": [
      "\n",
      "ROC Curve Tolkning:\n",
      "- ROC AUC på 0.8067 bekräftar modellens starka förmåga att skilja mellan en försenad och icke-försenad klass.\n",
      "- Ju längre kurvan är från den diagonala linjen, desto bättre är klassificeringen.\n"
     ]
    }
   ],
   "source": [
    "# Beräkna False Positive Rate (FPR), True Positive Rate (TPR) och trösklar\n",
    "# y_proba_final är redan definierad som sannolikheten för klass 1 (försening)\n",
    "fpr, tpr, thresholds = roc_curve(y_test, y_proba_final)\n",
    "roc_auc = auc(fpr, tpr)\n",
    "\n",
    "plt.figure(figsize=(8, 6))\n",
    "plt.plot(\n",
    "    fpr, tpr, \n",
    "    color='darkorange', \n",
    "    lw=2, \n",
    "    label=f'ROC Curve (area = {roc_auc:.4f})'\n",
    ")\n",
    "# Linje för slumpmässig gissning (AUC = 0.5)\n",
    "plt.plot([0, 1], [0, 1], color='navy', lw=2, linestyle='--', label='Slumpmässig (AUC = 0.5)')\n",
    "\n",
    "plt.xlim([0.0, 1.0])\n",
    "plt.ylim([0.0, 1.05])\n",
    "plt.xlabel('False Positive Rate (FPR)')\n",
    "plt.ylabel('True Positive Rate (TPR) / Recall')\n",
    "plt.title('Receiver Operating Characteristic (ROC) Curve')\n",
    "plt.legend(loc='lower right')\n",
    "plt.grid(True, alpha=0.3)\n",
    "plt.show()\n",
    "\n",
    "# Utskrift av tolkning\n",
    "print(\"\\nROC Curve Tolkning:\")\n",
    "print(f\"- ROC AUC på {roc_auc:.4f} bekräftar modellens starka förmåga att skilja mellan en försenad och icke-försenad klass.\")\n",
    "print(\"- Ju längre kurvan är från den diagonala linjen, desto bättre är klassificeringen.\")"
   ]
  },
  {
   "cell_type": "code",
   "execution_count": 40,
   "id": "df4a9130",
   "metadata": {},
   "outputs": [
    {
     "name": "stdout",
     "output_type": "stream",
     "text": [
      "Modell sparad!\n",
      "\n",
      "För att ladda modellen senare:\n",
      "loaded_model = joblib.load('train_delay_model.pkl')\n",
      "loaded_scaler = joblib.load('train_delay_scaler.pkl')\n"
     ]
    }
   ],
   "source": [
    "# Spara modell och scaler för framtida användning\n",
    "import joblib\n",
    "\n",
    "# Spara modell\n",
    "joblib.dump(best_model, 'train_delay_model.pkl')\n",
    "joblib.dump(scaler, 'train_delay_scaler.pkl')\n",
    "joblib.dump(label_encoders, 'train_delay_encoders.pkl')\n",
    "\n",
    "print(\"Modell sparad!\")\n",
    "print(\"\\nFör att ladda modellen senare:\")\n",
    "print(\"loaded_model = joblib.load('train_delay_model.pkl')\")\n",
    "print(\"loaded_scaler = joblib.load('train_delay_scaler.pkl')\")\n"
   ]
  },
  {
   "cell_type": "code",
   "execution_count": 41,
   "id": "afb10680",
   "metadata": {},
   "outputs": [],
   "source": [
    "# Ladda planerad data\n",
    "file_path_planned = os.path.join('data', 'df_planned_latest.parquet')\n",
    "df_planned_data = pd.read_parquet(file_path_planned)"
   ]
  },
  {
   "cell_type": "code",
   "execution_count": 47,
   "id": "bd4363c8",
   "metadata": {},
   "outputs": [
    {
     "data": {
      "application/vnd.microsoft.datawrangler.viewer.v0+json": {
       "columns": [
        {
         "name": "index",
         "rawType": "object",
         "type": "string"
        },
        {
         "name": "0",
         "rawType": "object",
         "type": "unknown"
        }
       ],
       "ref": "74f90e08-6395-4d85-8925-5e4d57a1e267",
       "rows": [
        [
         "AdvertisedTrainIdent",
         "object"
        ],
        [
         "service_date",
         "datetime64[ns]"
        ],
        [
         "Tripdate",
         "datetime64[ns]"
        ],
        [
         "start_planned",
         "datetime64[ns]"
        ],
        [
         "end_planned",
         "datetime64[ns]"
        ],
        [
         "duration_minutes",
         "float64"
        ],
        [
         "start_station",
         "object"
        ],
        [
         "end_station",
         "object"
        ],
        [
         "stops_count",
         "int64"
        ],
        [
         "through_stations",
         "object"
        ],
        [
         "any_canceled",
         "Int8"
        ],
        [
         "Operator",
         "object"
        ],
        [
         "TrainOwner",
         "object"
        ],
        [
         "FromLocations",
         "object"
        ],
        [
         "ToLocations",
         "object"
        ],
        [
         "start_operator",
         "object"
        ],
        [
         "start_owner",
         "object"
        ],
        [
         "start_typeoftraffic",
         "object"
        ],
        [
         "start_deviation",
         "object"
        ],
        [
         "start_hour",
         "int64"
        ],
        [
         "start_weekday_",
         "int64"
        ],
        [
         "start_mounth",
         "int64"
        ],
        [
         "is_weekday",
         "int64"
        ],
        [
         "distance_km",
         "float64"
        ]
       ],
       "shape": {
        "columns": 1,
        "rows": 24
       }
      },
      "text/plain": [
       "AdvertisedTrainIdent            object\n",
       "service_date            datetime64[ns]\n",
       "Tripdate                datetime64[ns]\n",
       "start_planned           datetime64[ns]\n",
       "end_planned             datetime64[ns]\n",
       "duration_minutes               float64\n",
       "start_station                   object\n",
       "end_station                     object\n",
       "stops_count                      int64\n",
       "through_stations                object\n",
       "any_canceled                      Int8\n",
       "Operator                        object\n",
       "TrainOwner                      object\n",
       "FromLocations                   object\n",
       "ToLocations                     object\n",
       "start_operator                  object\n",
       "start_owner                     object\n",
       "start_typeoftraffic             object\n",
       "start_deviation                 object\n",
       "start_hour                       int64\n",
       "start_weekday_                   int64\n",
       "start_mounth                     int64\n",
       "is_weekday                       int64\n",
       "distance_km                    float64\n",
       "dtype: object"
      ]
     },
     "execution_count": 47,
     "metadata": {},
     "output_type": "execute_result"
    }
   ],
   "source": [
    "df_planned_data.dtypes"
   ]
  },
  {
   "cell_type": "code",
   "execution_count": 43,
   "id": "0c29864f",
   "metadata": {},
   "outputs": [
    {
     "name": "stdout",
     "output_type": "stream",
     "text": [
      "Kolumnen 'TrainOwner' döptes om till 'train_owner' för konsistens.\n",
      "Ny data redo för prediktion. Antal rader: 3674, Antal features: 14\n"
     ]
    }
   ],
   "source": [
    "# Ladda planerad data\n",
    "file_path_planned = os.path.join('data', 'df_planned_latest.parquet')\n",
    "df_planned_data = pd.read_parquet(file_path_planned)\n",
    "\n",
    "# Använd en kopia av den nya rådatan för bearbetning\n",
    "df_planned_processed = df_planned_data.copy()\n",
    "\n",
    "# --- NY KONTROLL OCH OMDÖPNING ---\n",
    "# Försäkra att kolumnen för tågägare heter train_owner\n",
    "if 'TrainOwner' in df_planned_processed.columns and 'train_owner' not in df_planned_processed.columns:\n",
    "    df_planned_processed.rename(columns={'TrainOwner': 'train_owner'}, inplace=True)\n",
    "    print(\"Kolumnen 'TrainOwner' döptes om till 'train_owner' för konsistens.\")\n",
    "    \n",
    "# --- FÖRBEREDANDE STEG: EXAKT SOM TRÄNINGEN ---\n",
    "\n",
    "# Konvertera datetime-kolumner\n",
    "datetime_cols = ['start_planned', 'start_actual', 'end_planned', 'end_actual']\n",
    "for col in datetime_cols:\n",
    "    if col in df_planned_processed.columns:\n",
    "        df_planned_processed[col] = pd.to_datetime(df_planned_processed[col], errors='coerce') # Använd errors='coerce' för robusthet\n",
    "\n",
    "# Extrahera TIME-based features\n",
    "if 'start_planned' in df_planned_processed.columns:\n",
    "    df_planned_processed['start_minute'] = df_planned_processed['start_planned'].dt.minute\n",
    "    df_planned_processed['start_day_of_month'] = df_planned_processed['start_planned'].dt.day\n",
    "    df_planned_processed['start_hour'] = df_planned_processed['start_planned'].dt.hour\n",
    "    df_planned_processed['start_weekday'] = df_planned_processed['start_planned'].dt.weekday\n",
    "    df_planned_processed['start_month'] = df_planned_processed['start_planned'].dt.month\n",
    "\n",
    "# Rush hour feature\n",
    "if 'start_hour' in df_planned_processed.columns:\n",
    "    df_planned_processed['is_rush_hour'] = df_planned_processed['start_hour'].isin([7,8,9,16,17,18]).astype(int)\n",
    "    \n",
    "# Planerad duration\n",
    "if 'end_planned' in df_planned_processed.columns and 'start_planned' in df_planned_processed.columns:\n",
    "    df_planned_processed['planned_duration_min'] = (\n",
    "        df_planned_processed['end_planned'] - df_planned_processed['start_planned']\n",
    "    ).dt.total_seconds() / 60\n",
    "\n",
    "# --- APPLICERA LABEL ENCODING (TRANSFORM!) ---\n",
    "# VIKTIGT: Måste använda den sparade 'label_encoders' dict från träningen\n",
    "\n",
    "categorical_cols = ['start_station', 'end_station', 'start_owner', 'train_owner',\n",
    "                   'start_operator', 'end_owner']\n",
    "\n",
    "for col in categorical_cols:\n",
    "    if col in df_planned_processed.columns:\n",
    "        le = label_encoders[col] # Hämta den sparade enkodern\n",
    "        \n",
    "        # Hantera nya/okända kategorier\n",
    "        # Detta är nödvändigt i produktion: Okända värden sätts till NaN\n",
    "        new_values = df_planned_processed[col].astype(str).loc[~df_planned_processed[col].astype(str).isin(le.classes_)]\n",
    "        \n",
    "        if not new_values.empty:\n",
    "            # Ersätt okända värden med ett dummyvärde (som sedan behandlas som NaN eller 0)\n",
    "            df_planned_processed[col + '_temp'] = df_planned_processed[col].astype(str).replace(new_values.unique(), le.classes_[0])\n",
    "        else:\n",
    "            df_planned_processed[col + '_temp'] = df_planned_processed[col].astype(str)\n",
    "            \n",
    "        # Applicera .transform()\n",
    "        df_planned_processed[col + '_encoded'] = le.transform(df_planned_processed[col + '_temp'])\n",
    "        \n",
    "# --- VÄLJ UT OCH SKALA FEATURES ---\n",
    "\n",
    "# Välj endast de kolumner som modellen tränades på\n",
    "X_planned_raw = df_planned_processed[feature_cols]\n",
    "\n",
    "# Kontrollera NaN-värden efter transformationsstegen (viktigt)\n",
    "if X_planned_raw.isnull().sum().sum() > 0:\n",
    "    print(\"VARNING: NaN-värden hittades efter Feature Engineering. Fyller med 0.\")\n",
    "    X_planned_raw = X_planned_raw.fillna(0) # Fyll NaN med 0 (eller annan lämplig imputation)\n",
    "\n",
    "# Skala datan med den sparade StandardScaler (MÅSTE vara .transform())\n",
    "X_planned_scaled = scaler.transform(X_planned_raw)\n",
    "\n",
    "print(f\"Ny data redo för prediktion. Antal rader: {X_planned_scaled.shape[0]}, Antal features: {X_planned_scaled.shape[1]}\")"
   ]
  },
  {
   "cell_type": "code",
   "execution_count": 45,
   "id": "b8adc0ac",
   "metadata": {},
   "outputs": [
    {
     "name": "stdout",
     "output_type": "stream",
     "text": [
      "Modell, Scaler och Encoders laddade framgångsrikt.\n",
      "Prediktioner genomförda på ny planerad data!\n",
      "Antal tåg förutspådda som försenade: 214\n",
      "\n",
      "Högsta risk tåg (Topp 10):\n"
     ]
    },
    {
     "data": {
      "application/vnd.microsoft.datawrangler.viewer.v0+json": {
       "columns": [
        {
         "name": "index",
         "rawType": "int64",
         "type": "integer"
        },
        {
         "name": "start_planned",
         "rawType": "datetime64[ns]",
         "type": "datetime"
        },
        {
         "name": "start_station",
         "rawType": "object",
         "type": "string"
        },
        {
         "name": "end_station",
         "rawType": "object",
         "type": "string"
        },
        {
         "name": "train_owner",
         "rawType": "object",
         "type": "string"
        },
        {
         "name": "Delay_Probability",
         "rawType": "float32",
         "type": "float"
        }
       ],
       "ref": "0f806293-148e-4d83-a871-c5bf5c021df5",
       "rows": [
        [
         "2340",
         "2025-10-17 03:05:00",
         "CST",
         "G",
         "SJ",
         "0.9422582"
        ],
        [
         "2634",
         "2025-10-17 00:32:00",
         "BN",
         "ÅG",
         "SJ",
         "0.9286523"
        ],
        [
         "631",
         "2025-10-17 03:27:00",
         "HPBG",
         "CST",
         "SJ",
         "0.92763335"
        ],
        [
         "2325",
         "2025-10-17 01:25:00",
         "LP",
         "CST",
         "SNÄLL",
         "0.90831244"
        ],
        [
         "2477",
         "2025-10-17 03:09:00",
         "SUC",
         "CST",
         "SJ",
         "0.9081458"
        ],
        [
         "136",
         "2025-10-17 03:56:00",
         "HPBG",
         "CST",
         "SJ",
         "0.9073028"
        ],
        [
         "3650",
         "2025-10-17 00:08:00",
         "UÅ",
         "HSD",
         "SJ",
         "0.90065753"
        ],
        [
         "648",
         "2025-10-17 04:14:00",
         "CST",
         "HPBG",
         "SJ",
         "0.8929975"
        ],
        [
         "102",
         "2025-10-17 03:44:00",
         "CST",
         "ARB",
         "SJ",
         "0.8905579"
        ],
        [
         "620",
         "2025-10-17 03:12:00",
         "VÅ",
         "G",
         "SJ",
         "0.8836163"
        ]
       ],
       "shape": {
        "columns": 5,
        "rows": 10
       }
      },
      "text/html": [
       "<div>\n",
       "<style scoped>\n",
       "    .dataframe tbody tr th:only-of-type {\n",
       "        vertical-align: middle;\n",
       "    }\n",
       "\n",
       "    .dataframe tbody tr th {\n",
       "        vertical-align: top;\n",
       "    }\n",
       "\n",
       "    .dataframe thead th {\n",
       "        text-align: right;\n",
       "    }\n",
       "</style>\n",
       "<table border=\"1\" class=\"dataframe\">\n",
       "  <thead>\n",
       "    <tr style=\"text-align: right;\">\n",
       "      <th></th>\n",
       "      <th>start_planned</th>\n",
       "      <th>start_station</th>\n",
       "      <th>end_station</th>\n",
       "      <th>train_owner</th>\n",
       "      <th>Delay_Probability</th>\n",
       "    </tr>\n",
       "  </thead>\n",
       "  <tbody>\n",
       "    <tr>\n",
       "      <th>2340</th>\n",
       "      <td>2025-10-17 03:05:00</td>\n",
       "      <td>CST</td>\n",
       "      <td>G</td>\n",
       "      <td>SJ</td>\n",
       "      <td>0.942258</td>\n",
       "    </tr>\n",
       "    <tr>\n",
       "      <th>2634</th>\n",
       "      <td>2025-10-17 00:32:00</td>\n",
       "      <td>BN</td>\n",
       "      <td>ÅG</td>\n",
       "      <td>SJ</td>\n",
       "      <td>0.928652</td>\n",
       "    </tr>\n",
       "    <tr>\n",
       "      <th>631</th>\n",
       "      <td>2025-10-17 03:27:00</td>\n",
       "      <td>HPBG</td>\n",
       "      <td>CST</td>\n",
       "      <td>SJ</td>\n",
       "      <td>0.927633</td>\n",
       "    </tr>\n",
       "    <tr>\n",
       "      <th>2325</th>\n",
       "      <td>2025-10-17 01:25:00</td>\n",
       "      <td>LP</td>\n",
       "      <td>CST</td>\n",
       "      <td>SNÄLL</td>\n",
       "      <td>0.908312</td>\n",
       "    </tr>\n",
       "    <tr>\n",
       "      <th>2477</th>\n",
       "      <td>2025-10-17 03:09:00</td>\n",
       "      <td>SUC</td>\n",
       "      <td>CST</td>\n",
       "      <td>SJ</td>\n",
       "      <td>0.908146</td>\n",
       "    </tr>\n",
       "    <tr>\n",
       "      <th>136</th>\n",
       "      <td>2025-10-17 03:56:00</td>\n",
       "      <td>HPBG</td>\n",
       "      <td>CST</td>\n",
       "      <td>SJ</td>\n",
       "      <td>0.907303</td>\n",
       "    </tr>\n",
       "    <tr>\n",
       "      <th>3650</th>\n",
       "      <td>2025-10-17 00:08:00</td>\n",
       "      <td>UÅ</td>\n",
       "      <td>HSD</td>\n",
       "      <td>SJ</td>\n",
       "      <td>0.900658</td>\n",
       "    </tr>\n",
       "    <tr>\n",
       "      <th>648</th>\n",
       "      <td>2025-10-17 04:14:00</td>\n",
       "      <td>CST</td>\n",
       "      <td>HPBG</td>\n",
       "      <td>SJ</td>\n",
       "      <td>0.892998</td>\n",
       "    </tr>\n",
       "    <tr>\n",
       "      <th>102</th>\n",
       "      <td>2025-10-17 03:44:00</td>\n",
       "      <td>CST</td>\n",
       "      <td>ARB</td>\n",
       "      <td>SJ</td>\n",
       "      <td>0.890558</td>\n",
       "    </tr>\n",
       "    <tr>\n",
       "      <th>620</th>\n",
       "      <td>2025-10-17 03:12:00</td>\n",
       "      <td>VÅ</td>\n",
       "      <td>G</td>\n",
       "      <td>SJ</td>\n",
       "      <td>0.883616</td>\n",
       "    </tr>\n",
       "  </tbody>\n",
       "</table>\n",
       "</div>"
      ],
      "text/plain": [
       "           start_planned start_station end_station train_owner  \\\n",
       "2340 2025-10-17 03:05:00           CST           G          SJ   \n",
       "2634 2025-10-17 00:32:00            BN          ÅG          SJ   \n",
       "631  2025-10-17 03:27:00          HPBG         CST          SJ   \n",
       "2325 2025-10-17 01:25:00            LP         CST       SNÄLL   \n",
       "2477 2025-10-17 03:09:00           SUC         CST          SJ   \n",
       "136  2025-10-17 03:56:00          HPBG         CST          SJ   \n",
       "3650 2025-10-17 00:08:00            UÅ         HSD          SJ   \n",
       "648  2025-10-17 04:14:00           CST        HPBG          SJ   \n",
       "102  2025-10-17 03:44:00           CST         ARB          SJ   \n",
       "620  2025-10-17 03:12:00            VÅ           G          SJ   \n",
       "\n",
       "      Delay_Probability  \n",
       "2340           0.942258  \n",
       "2634           0.928652  \n",
       "631            0.927633  \n",
       "2325           0.908312  \n",
       "2477           0.908146  \n",
       "136            0.907303  \n",
       "3650           0.900658  \n",
       "648            0.892998  \n",
       "102            0.890558  \n",
       "620            0.883616  "
      ]
     },
     "metadata": {},
     "output_type": "display_data"
    }
   ],
   "source": [
    "# Antag att X_planned_scaled och df_planned_processed skapades i föregående celler.\n",
    "\n",
    "# --- Ladda sparade objekt ---\n",
    "try:\n",
    "    # 1. Ladda modellen\n",
    "    loaded_model = joblib.load('train_delay_model.pkl')\n",
    "    # 2. Ladda Scaler (används inte direkt här, men bra att ha)\n",
    "    loaded_scaler = joblib.load('train_delay_scaler.pkl')\n",
    "    # 3. Ladda Label Encoders (användes i föregående cell, laddas här för fullständighet)\n",
    "    loaded_label_encoders = joblib.load('train_delay_encoders.pkl')\n",
    "    \n",
    "    print(\"Modell, Scaler och Encoders laddade framgångsrikt.\")\n",
    "\n",
    "except FileNotFoundError:\n",
    "    print(\"FEL: Kunde inte hitta en eller flera sparade filer (*.pkl). Kontrollera sökvägen.\")\n",
    "    # Stoppa exekveringen eller hantera felet på annat sätt\n",
    "    raise # Kasta felet för att stoppa koden om filen saknas\n",
    "\n",
    "\n",
    "# Steg 1: Gör Prediktioner på den nya datan\n",
    "# Nu använder vi loaded_model istället för best_model\n",
    "# Vi använder X_planned_scaled som skapades och skalades i den föregående cellen.\n",
    "\n",
    "# 1. Gör KLASS-prediktioner (0 = I tid, 1 = Försenad)\n",
    "predictions = loaded_model.predict(X_planned_scaled)\n",
    "\n",
    "# 2. Gör SANNOLIKHETSprediktioner (Säkerhet i larmet)\n",
    "# Vi tar sannolikheten för den positiva klassen (klass 1: Försenad)\n",
    "probabilities = loaded_model.predict_proba(X_planned_scaled)[:, 1]\n",
    "\n",
    "# 3. Lägg till resultaten i den bearbetade DataFrame\n",
    "# Vi använder df_planned_processed som skapades i den föregående cellen.\n",
    "df_planned_processed['Predicted_Delay'] = predictions\n",
    "df_planned_processed['Delay_Probability'] = probabilities\n",
    "\n",
    "print(\"Prediktioner genomförda på ny planerad data!\")\n",
    "print(f\"Antal tåg förutspådda som försenade: {predictions.sum()}\")\n",
    "\n",
    "# Sortera och visa de 10 tåg med högst risk\n",
    "high_risk_trains = df_planned_processed[df_planned_processed['Predicted_Delay'] == 1].sort_values(\n",
    "    'Delay_Probability', ascending=False\n",
    ")\n",
    "\n",
    "print(\"\\nHögsta risk tåg (Topp 10):\")\n",
    "# Visa endast de viktigaste kolumnerna för trafikledningen\n",
    "display(high_risk_trains[['start_planned', 'start_station', 'end_station', 'train_owner', 'Delay_Probability']].head(10))"
   ]
  },
  {
   "cell_type": "code",
   "execution_count": 54,
   "id": "a31d7160",
   "metadata": {},
   "outputs": [
    {
     "name": "stdout",
     "output_type": "stream",
     "text": [
      "\n",
      "==================================================\n",
      "SAMMANFATTNING: XGBOOST FÖR TÅGFÖRSENINGAR\n",
      "==================================================\n",
      "Totala antalet tåg i planerad fil: 3674\n",
      "Förutspått antal försenade tåg (Klass=1): 214 (5.8%)\n",
      "Medel sannolikhet för försenade tåg: 0.66\n",
      "==================================================\n",
      "\n",
      "Nyckelinsikter från Modellen:\n",
      "1. **Tidpunkt:** Modellen bekräftar att 'is_weekday' är den starkaste drivkraften för förseningar.\n",
      "2. **Ansvar:** Administrativa faktorer som 'train_owner' är näst viktigast. Detta indikerar att prediktionerna är starkt kopplade till operativa skillnader mellan tågbolag.\n",
      "3. **Åtgärd:** Föreslå att Trafikledningen fokuserar sin uppmärksamhet på de tåg där 'Delay_Probability' är över 0.66.\n"
     ]
    }
   ],
   "source": [
    "# Slutlig Sammanfattning och Rapport\n",
    "\n",
    "total_trains = len(df_planned_processed)\n",
    "predicted_delayed = high_risk_trains.shape[0]\n",
    "avg_prob = high_risk_trains['Delay_Probability'].mean()\n",
    "\n",
    "print(\"\\n\" + \"=\"*50)\n",
    "print(\"SAMMANFATTNING: XGBOOST FÖR TÅGFÖRSENINGAR\")\n",
    "print(\"=\"*50)\n",
    "print(f\"Totala antalet tåg i planerad fil: {total_trains}\")\n",
    "print(f\"Förutspått antal försenade tåg (Klass=1): {predicted_delayed} ({predicted_delayed/total_trains:.1%})\")\n",
    "print(f\"Medel sannolikhet för försenade tåg: {avg_prob:.2f}\")\n",
    "print(\"=\"*50)\n",
    "\n",
    "# Dra slutsatser baserade på Feature Importance (som du fick tidigare)\n",
    "print(\"\\nNyckelinsikter från Modellen:\")\n",
    "print(f\"1. **Tidpunkt:** Modellen bekräftar att 'is_weekday' är den starkaste drivkraften för förseningar.\")\n",
    "print(f\"2. **Ansvar:** Administrativa faktorer som 'train_owner' är näst viktigast. Detta indikerar att prediktionerna är starkt kopplade till operativa skillnader mellan tågbolag.\")\n",
    "print(f\"3. **Åtgärd:** Föreslå att Trafikledningen fokuserar sin uppmärksamhet på de tåg där 'Delay_Probability' är över {avg_prob:.2f}.\")"
   ]
  }
 ],
 "metadata": {
  "kernelspec": {
   "display_name": "venv",
   "language": "python",
   "name": "python3"
  },
  "language_info": {
   "codemirror_mode": {
    "name": "ipython",
    "version": 3
   },
   "file_extension": ".py",
   "mimetype": "text/x-python",
   "name": "python",
   "nbconvert_exporter": "python",
   "pygments_lexer": "ipython3",
   "version": "3.13.3"
  }
 },
 "nbformat": 4,
 "nbformat_minor": 5
}
